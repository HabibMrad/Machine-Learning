{
 "cells": [
  {
   "cell_type": "markdown",
   "metadata": {},
   "source": [
    "# Ćwiczenia 1"
   ]
  },
  {
   "cell_type": "markdown",
   "metadata": {},
   "source": [
    "## Wyrażenia regularne"
   ]
  },
  {
   "cell_type": "markdown",
   "metadata": {},
   "source": [
    "Aby nauczyć się podstaw, proszę\n",
    "- przerobić tutorial na: https://regexone.com/references/python\n",
    "- poczytać: https://www.python-course.eu/python3_re.php"
   ]
  },
  {
   "cell_type": "markdown",
   "metadata": {},
   "source": [
    "Na podstawie ćwiczeń z przemiotu NLP dra Wojciecha Czarneckiego"
   ]
  },
  {
   "cell_type": "markdown",
   "metadata": {},
   "source": [
    "Napisz funkcje, które:\n",
    "1. Wczyta zawartość pliku \"hamlet\"\n",
    "2. **(Aktywność)** Wykona następujące operacje na wczytanym dokumencie używając wyrażeń regularnych:\n",
    " - znajdzie wszystkie słowa zaczynające się od litery `a` i wypisze najdłuższe z nich\n",
    " - znajdzie wszystkie czasowniki w formie continuous\n",
    " - wypisze liczbę wszystkich 6 literowych słów z dokumentu\n",
    " - znajdzie wszystkie nazwy własne, zakładając, że jest to słowo zaczynające się wielką literą, przed którym nie wystąpiła kropka"
   ]
  },
  {
   "cell_type": "code",
   "execution_count": 108,
   "metadata": {
    "ExecuteTime": {
     "end_time": "2017-10-15T20:12:06.819607Z",
     "start_time": "2017-10-15T22:12:06.785885+02:00"
    },
    "collapsed": true
   },
   "outputs": [],
   "source": [
    "import re\n",
    "\n",
    "words_pattern = re.compile(r\"[\\w']+\")\n",
    "\n",
    "def read_file(text='./hamlet.txt'):\n",
    "    with open(text, 'r') as file:\n",
    "        return file.read()\n",
    "it = read_file()"
   ]
  },
  {
   "cell_type": "code",
   "execution_count": 109,
   "metadata": {
    "ExecuteTime": {
     "end_time": "2017-10-15T20:12:06.959722Z",
     "start_time": "2017-10-15T22:12:06.821918+02:00"
    },
    "collapsed": true
   },
   "outputs": [],
   "source": [
    "the_continuous = eval(\"set(['contriving', 'saying', 'flaming', 'dawning', 'foreknowing', 'being', 'parching', 'inclining', 'ending', 'bring', 'flattering', 'smiling', 'praying', 'fing', 'disting', 'shrouding', 'shuffling', 'thinking', 'bringing', 'Blasting', 'Respeaking', 'fitting', 'pronouncing', 'hing', 'Sing', 'pleasing', 'struggling', 'wearing', 'groundling', 'string', 'Thing', 'sitting', 'checking', 'showing', 'witching', 'frowning', 'shriving', 'touching', 'peating', 'wedding', 'drinking', 'reckoning', 'wring', 'Having', 'going', 'reading', 'Striking', 'undertaking', 'having', 'laying', 'greeting', 'morning', 'Something', 'embracing', 'Importing', 'shaking', 'Fing', 'lasting', 'fearing', 'erhanging', 'throwing', 'spring', 'stooping', 'erdoing', 'changeling', 'leaping', 'preaching', 'stealing', 'Finding', 'Drabbing', 'croaking', 'living', 'proceeding', 'trapping', 'Mincing', 'giving', 'crowing', 'drooping', 'everything', 'acting', 'asking', 'miching', 'flushing', 'dying', 'Nothing', 'paddling', 'falling', 'beating', 'knowing', 'King', 'weighing', 'poisoning', 'crawling', 'doing', 'Touching', 'mourning', 'willing', 'packing', 'fawning', 'kissing', 'losing', 'sing', 'Passing', 'understanding', 'tripping', 'declining', 'sending', 'suiting', 'witting', 'unprevailing', 'anything', 'intruding', 'Being', 'according', 'Sleeping', 'Bring', 'wringing', 'passing', 'seeing', 'swearing', 'dwelling', 'seeming', 'burning', 'Giving', 'breathing', 'smelling', 'knocking', 'hearing', 'nipping', 'Going', 'Seafaring', 'learning', 'Grating', 'ring', 'detecting', 'gaingiving', 'standing', 'Breathing', 'working', 'whipping', 'ing', 'quarrelling', 'bleeding', 'dropping', 'weeping', 'squeezing', 'divulging', 'meeting', 'loving', 'stopping', 'mining', 'disclaiming', 'Exposing', 'lapwing', 'dallying', 'blessing', 'whirling', 'congruing', 'opposing', 'upspring', 'comming', 'breeding', 'stocking', 'cunning', 'king', 'swaddling', 'friending', 'grinning', 'forgetting', 'harping', 'ning', 'growing', 'making', 'feeling', 'playing', 'stirring', 'erring', 'bearing', 'groaning', 'harbing', 'Exceeding', 'sting', 'sleeping', 'Looking', 'howling', 'warning', 'something', 'Holding', 'sounding', 'According', 'Everlasting', 'unknowing', 'dipping', 'thing', 'agreeing', 'fencing', 'scuffling', 'breaking', 'soliciting', 'Running', 'Carrying', 'Singeing', 'finding', 'unwilling', 'forcing', 'concerning', 'sterling', 'gaming', 'winking', 'sling', 'overpeering', 'preceding', 'sewing', 'containing', 'waving', 'meaning', 'moving', 'coming', 'nothing', 'Making', 'tugging', 'sipping', 'trifling', 'cursing', 'Seeming', 'marching', 'honeying', 'borrowing', 'yielding', 'fighting', 'purging', 'carrying', 'tormenting', 'easing', 'painting', 'wing', 'lying'])\")\n",
    "six_long=eval(\"set(['kettle', 'forget', 'pardon', 'saying', 'Sweets', 'beware', 'doubts', 'peruse', 'forged', 'follow', 'mining', 'yonder', 'wanton', 'graves', 'homage', 'father', 'spirit', 'tickle', 'deject', 'charge', 'rapier', 'breach', 'Yorick', 'garden', 'pierce', 'choice', 'wishes', 'accuse', 'harlot', 'chapel', 'marrow', 'weapon', 'school', 'heaven', 'clouds', 'knight', 'button', 'laying', 'punish', 'afeard', 'sexton', 'graces', 'heaves', 'easing', 'pledge', 'direct', 'Should', 'second', 'lawyer', 'scarce', 'Norway', 'Thrice', 'drinks', 'hourly', 'errors', 'appear', 'giving', 'deeply', 'avouch', 'beaten', 'sables', 'favour', 'poison', 'sweaty', 'access', 'lights', 'rotten', 'worser', 'method', 'shocks', 'unsure', 'gilded', 'honour', 'jester', 'Follow', 'inmost', 'strong', 'change', 'unkind', 'search', 'stalks', 'enmity', 'leaves', 'larger', 'guilty', 'bestow', 'coffin', 'Itself', 'fatted', 'defeat', 'action', 'narrow', 'golden', 'hither', 'depart', 'divide', 'danger', 'forbid', 'merely', 'highly', 'withal', 'Behind', 'select', 'bended', 'estate', 'exhort', 'eleven', 'memory', 'strike', 'angels', 'loving', 'horses', 'dismay', 'brings', 'aright', 'excuse', 'dismal', 'virtue', 'mellow', 'unpack', 'verity', 'vailed', 'rights', 'pursue', 'unyoke', 'Hamlet', 'guards', 'remain', 'itself', 'praise', 'making', 'marble', 'weaker', 'visage', 'figure', 'loosed', 'pieces', 'phrase', 'cautel', 'native', 'Rapier', 'rather', 'travel', 'havior', 'faults', 'Cannot', 'forest', 'sacred', 'answer', 'speaks', 'blanks', 'anoint', 'beauty', 'ducats', 'advice', 'Richer', 'canker', 'attent', 'coming', 'heroes', 'physic', 'Whiles', 'calves', 'liquid', 'famous', 'author', 'inform', 'thorny', 'crafts', 'offend', 'fadoms', 'crafty', 'Giving', 'repair', 'indeed', 'portal', 'ladies', 'argues', 'course', 'shreds', 'romage', 'drossy', 'suffer', 'before', 'trifle', 'thence', 'willow', 'inward', 'relish', 'better', 'corner', 'choose', 'primal', 'policy', 'sirrah', 'Brutus', 'thirty', 'return', 'kingly', 'Folded', 'sooner', 'nation', 'lesser', 'killed', 'PRINCE', 'easily', 'Indeed', 'arrows', 'herald', 'Sailor', 'habits', 'bewept', 'gender', 'Danish', 'sliver', 'duller', 'burial', 'lifted', 'kneels', 'weight', 'fairly', 'stithy', 'crimes', 'forgot', 'beyond', 'truant', 'clothe', 'living', 'mouths', 'profit', 'Season', 'defend', 'freeze', 'stoups', 'acting', 'safety', 'health', 'Pelion', 'impart', 'scopes', 'belief', 'passes', 'HAMLET', 'houses', 'reason', 'surely', 'brazen', 'attend', 'thrown', 'honest', 'motion', 'length', 'speedy', 'aboard', 'mortal', 'retain', 'virgin', 'origin', 'render', 'spoken', 'pitied', 'Repent', 'bonnet', 'glassy', 'alleys', 'spokes', 'sounds', 'filial', 'moiety', 'Exeunt', 'little', 'Monday', 'Nature', 'twenty', 'caught', 'vulgar', 'accent', 'player', 'galled', 'bounty', 'bitter', 'easier', 'friend', 'justly', 'Nemean', 'blazon', 'season', 'griefs', 'wildly', 'wisdom', 'tokens', 'goblin', 'Safely', 'begins', 'cracks', 'rugged', 'double', 'arrant', 'richer', 'seated', 'cockle', 'matter', 'endure', 'assays', 'fruits', 'toward', 'powers', 'damned', 'gambol', 'lowest', 'mobled', 'picked', 'beggar', 'hearer', 'Father', 'heyday', 'livery', 'gentle', 'clouts', 'buried', 'throat', 'Angels', 'nights', 'quarry', 'Player', 'Belike', 'sewing', 'casual', 'Assume', 'wretch', 'luxury', 'brains', 'pranks', 'Absent', 'sequel', 'unless', 'maiden', 'centre', 'reckon', 'humbly', 'taints', 'thorns', 'Priest', 'letter', 'Abuses', 'mettle', 'stands', 'Costly', 'closet', 'gather', 'solemn', 'points', 'absurd', 'Tender', 'plucks', 'barrel', 'fitted', 'marvel', 'affair', 'convoy', 'fennel', 'rebuke', 'nephew', 'debate', 'ground', 'nearer', 'sleeps', 'rabble', 'delays', 'enough', 'French', 'should', 'public', 'pretty', 'finger', 'batten', 'cannon', 'indued', 'pocket', 'Assure', 'remedy', 'cannot', 'breast', 'report', 'gibber', 'Having', 'comply', 'builds', 'reveal', 'Winner', 'whilst', 'hinges', 'pirate', 'softly', 'clowns', 'common', 'hasten', 'coward', 'vision', 'Stoops', 'potent', 'France', 'flaxen', 'violet', 'tender', 'wonder', 'closes', 'Repast', 'horrid', 'reform', 'please', 'broach', 'behind', 'capons', 'Virtue', 'Govern', 'boughs', 'across', 'mainly', 'bought', 'accord', 'ranker', 'nature', 'sorrow', 'Hecuba', 'sultry', 'sandal', 'reigns', 'unfold', 'gentry', 'cousin', 'aslant', 'cleave', 'drowns', 'freely', 'region', 'annual', 'blasts', 'became', 'volley', 'Drinks', 'extent', 'supply', 'simple', 'others', 'hollow', 'artire', 'beteem', 'indict', 'sickly', 'weasel', 'church', 'parley', 'mutine', 'riband', 'Sprung', 'Hazard', 'breath', 'rivals', 'secret', 'spread', 'copied', 'thrift', 'thrice', 'duties', 'define', 'bedded', 'infect', 'Poland', 'wounds', 'Craves', 'nobler', 'spills', 'goodly', 'dearth', 'demand', 'denote', 'former', 'corses', 'myself', 'fiends', 'Custom', 'flames', 'Beware', 'Bloody', 'employ', 'skyish', 'wonted', 'cherub', 'skirts', 'manner', 'Thrown', 'Thence', 'almost', 'herein', 'middle', 'sudden', 'Pretty', 'levied', 'beaver', 'wisely', 'choler', 'seduce', 'things', 'pester', 'Tweaks', 'loudly', 'speech', 'glares', 'advise', 'breaks', 'higher', 'jocund', 'wisest', 'effect', 'moment', 'afraid', 'moving', 'ardour', 'supper', 'fierce', 'steals', 'expend', 'Almost', 'colour', 'craven', 'object', 'person', 'relief', 'illume', 'mother', 'posset', 'hearts', 'bodies', 'bellow', 'givers', 'quoted', 'armour', 'chaste', 'repose', 'Sunday', 'adders', 'thanks', 'secure', 'tables', 'enters', 'Spurns', 'except', 'tetter', 'harrow', 'lender', 'source', 'Polack', 'labour', 'prison', 'struck', 'Delver', 'couple', 'unseen', 'dearly', 'dreamt', 'shadow', 'bloody', 'lunacy', 'Throws', 'dreams', 'formal', 'desire', 'insert', 'bodkin', 'Within', 'serves', 'shapes', 'either', 'lenten', 'Prince', 'Before', 'twelve', 'exceed', 'reechy', 'spring', 'Cudgel', 'sinews', 'basket', 'motive', 'clawed', 'convey', 'escape', 'proper', 'empire', 'divine', 'Vienna', 'sanity', 'though', 'didest', 'asking', 'market', 'Larded', 'denied', 'temple', 'Heaven', 'slight', 'unmask', 'sconce', 'broken', 'bisson', 'hectic', 'worthy', 'losing', 'coldly', 'wealth', 'throne', 'Seneca', 'sister', 'quills', 'maimed', 'slings', 'months', 'whence', 'tongue', 'Cousin', 'treble', 'seeing', 'scorns', 'dagger', 'sheets', 'Greeks', 'within', 'cursed', 'brands', 'treads', 'female', 'Impart', 'Unhand', 'lesson', 'smells', 'unseal', 'Norman', 'Though', 'people', 'custom', 'strict', 'Bestow', 'fought', 'naught', 'ubique', 'comart', 'plunge', 'invite', 'drains', 'belike', 'regard', 'volume', 'shroud', 'plague', 'liquor', 'assail', 'Castle', 'pajock', 'diadem', 'places', 'trains', 'shrunk', 'smooth', 'bounds', 'flagon', 'placed', 'mighty', 'wicked', 'tanner', 'signet', 'Proper', 'russet', 'sticks', 'deaths', 'devise', 'Rankly', 'mirror', 'kisses', 'metals', 'fellow', 'single', 'erring', 'prayer', 'awhile', 'unholy', 'crowns', 'longed', 'actors', 'behold', 'really', 'Plucks', 'smiles', 'potion', 'intend', 'spurns', 'Julius', 'waving', 'barren', 'chance', 'intent', 'squeak', 'Making', 'desert', 'spades', 'longer', 'Beggar', 'assume', 'tricks', 'Second', 'summit', 'having'])\")\n",
    "the_propers=eval(\"set(['Mercury', 'Herod', 'Gis', 'Provincial', 'Paris', 'Sunday', 'Caesar', 'Saint', 'Yaughan', 'Ilium', 'Scripture', 'Chamberlain', 'Marcellus', 'We', 'Sailors', 'Ophelia', 'French', 'Voltemand', 'Pyrrhus', 'Polack', 'Pictures', 'Grace', 'Pelion', 'Delver', 'Yorick', 'Drum', 'Highness', 'H', 'Niobe', 'Rome', 'Turk', 'T', 'Normandy', 'Robin', 'Italian', 'Lords', 'Claudius', 'England', 'Claudio', 'Yourself', 'Pole', 'Hercules', 'Gonzago', 'Death', 'Ambassadors', 'Pit', 'Ghost', 'Army', 'Laertes', 'Gentleman', 'France', 'Saviour', 'Followers', 'Messenger', 'Mars', 'Majesties', 'Murther', 'John', 'Norway', 'Ossa', 'Vienna', 'Attendants', 'Danish', 'Mincing', 'Switzers', 'William', 'Norwegian', 'Vulcan', 'Virtue', 'Attendant', 'Frenchman', 'King', 'Politician', 'Hecuba', 'Neptune', 'O', 'Osric', 'English', 'Dane', 'Property', 'Poland', 'First', 'Rosencrantz', 'Queen', 'Jephthah', 'Valentine', 'Roscius', 'Mighty', 'Cornelius', 'Mousetrap', 'Devil', 'Greeks', 'Young', 'Norman', 'Monday', 'Nature', 'Sentinels', 'Priam', 'Olympus', 'Your', 'Polonius', 'Alexander', 'Nemean', 'Fortune', 'Denmark', 'Trumpets', 'Fortinbras', 'Jove', 'Cyclops', 'V', 'Ber', 'Cain', 'Castle', 'Rhenish', 'Barbary', 'Hamlet', 'Lucianus', 'Our', 'Phoebus', 'Gertrude', 'Personae', 'Hymen', 'Lethe', 'God', 'Horatio', 'Father', 'Tellus', 'Gentlemen', 'To', 'Damon', 'Lord', 'You', 'Everlasting', 'D', 'Wittenberg', 'Israel', 'Kettledrums', 'Christian', 'Bernardo', 'May', 'Danskers', 'Second', 'Elsinore', 'Mutes', 'Lady', 'Hecate', 'Positively', 'A', 'E', 'Julius', 'Dido', 'Poisoner', 'Reynaldo', 'Players', 'Roman', 'Priest', 'Clowns', 'Prologue', 'Cock', 'Guildenstern', 'Captain', 'I', 'Majesty', 'Polacks', 'Guard', 'Nero', 'Proper', 'Swallowed', 'Adam'])\")"
   ]
  },
  {
   "cell_type": "code",
   "execution_count": 110,
   "metadata": {
    "ExecuteTime": {
     "end_time": "2017-10-15T20:12:07.071200Z",
     "start_time": "2017-10-15T22:12:06.963068+02:00"
    },
    "collapsed": true
   },
   "outputs": [],
   "source": [
    "def longest(starting_letter='a', text=it):\n",
    "    letter_words = [word for word in words_pattern.findall(text) if word.startswith(starting_letter)]\n",
    "    return max(letter_words, key=len)\n",
    "assert longest()=='achievements'"
   ]
  },
  {
   "cell_type": "code",
   "execution_count": 111,
   "metadata": {
    "ExecuteTime": {
     "end_time": "2017-10-15T20:12:07.172110Z",
     "start_time": "2017-10-15T22:12:07.073034+02:00"
    }
   },
   "outputs": [
    {
     "data": {
      "text/plain": [
       "{'According',\n",
       " 'Being',\n",
       " 'Breathing',\n",
       " 'Bring',\n",
       " 'Carrying',\n",
       " 'Drabbing',\n",
       " 'Everlasting',\n",
       " 'Giving',\n",
       " 'Going',\n",
       " 'Having',\n",
       " 'Holding',\n",
       " 'Importing',\n",
       " 'King',\n",
       " 'Making',\n",
       " 'Passing',\n",
       " 'Respeaking',\n",
       " 'Running',\n",
       " 'Sleeping',\n",
       " 'Something',\n",
       " 'Touching',\n",
       " 'anything',\n",
       " 'asking',\n",
       " 'beating',\n",
       " 'being',\n",
       " 'blessing',\n",
       " 'borrowing',\n",
       " 'breaking',\n",
       " 'bring',\n",
       " 'coming',\n",
       " 'crowing',\n",
       " 'dawning',\n",
       " 'drinking',\n",
       " 'dropping',\n",
       " 'dwelling',\n",
       " 'erring',\n",
       " 'falling',\n",
       " 'fencing',\n",
       " 'finding',\n",
       " 'fitting',\n",
       " 'flushing',\n",
       " 'foreknowing',\n",
       " 'friending',\n",
       " 'gaming',\n",
       " 'giving',\n",
       " 'going',\n",
       " 'greeting',\n",
       " 'harping',\n",
       " 'hearing',\n",
       " 'inclining',\n",
       " 'king',\n",
       " 'kissing',\n",
       " 'knocking',\n",
       " 'lasting',\n",
       " 'laying',\n",
       " 'living',\n",
       " 'loving',\n",
       " 'making',\n",
       " 'meaning',\n",
       " 'meeting',\n",
       " 'morning',\n",
       " 'mourning',\n",
       " 'moving',\n",
       " 'nipping',\n",
       " 'nothing',\n",
       " \"o'erhanging\",\n",
       " 'preceding',\n",
       " 'pronouncing',\n",
       " 'purging',\n",
       " 'quarrelling',\n",
       " 'reading',\n",
       " 'reckoning',\n",
       " 'saying',\n",
       " 'seeing',\n",
       " 'seeming',\n",
       " 'sending',\n",
       " 'sewing',\n",
       " 'shaking',\n",
       " 'sing',\n",
       " 'sleeping',\n",
       " 'smiling',\n",
       " 'something',\n",
       " 'sounding',\n",
       " 'spring',\n",
       " 'sterling',\n",
       " 'sting',\n",
       " 'stirring',\n",
       " \"swagg'ring\",\n",
       " 'swearing',\n",
       " 'thing',\n",
       " 'thinking',\n",
       " 'throwing',\n",
       " 'tormenting',\n",
       " 'touching',\n",
       " 'trifling',\n",
       " 'understanding',\n",
       " 'unprevailing',\n",
       " 'upspring',\n",
       " 'warning',\n",
       " 'waving',\n",
       " 'wearing',\n",
       " 'wedding',\n",
       " 'weighing',\n",
       " 'whirling',\n",
       " 'willing',\n",
       " 'wing',\n",
       " 'winking',\n",
       " 'working',\n",
       " 'yielding'}"
      ]
     },
     "execution_count": 111,
     "metadata": {},
     "output_type": "execute_result"
    }
   ],
   "source": [
    "#NLTK APPROACH NEEDED\n",
    "def continuous(text=it):\n",
    "    return set(word for word in words_pattern.findall(text) if word.endswith('ing'))\n",
    "continuous()\n",
    "# assert continuous()==the_continuous"
   ]
  },
  {
   "cell_type": "code",
   "execution_count": 112,
   "metadata": {
    "ExecuteTime": {
     "end_time": "2017-10-15T20:12:07.285436Z",
     "start_time": "2017-10-15T22:12:07.173913+02:00"
    }
   },
   "outputs": [
    {
     "data": {
      "text/plain": [
       "467"
      ]
     },
     "execution_count": 112,
     "metadata": {},
     "output_type": "execute_result"
    }
   ],
   "source": [
    "def words_of_length(length=6, text=it):\n",
    "    unique_words = set(words_pattern.findall(text))\n",
    "    return sum(len(word)==length for word in unique_words)\n",
    "words_of_length()\n",
    "#assert words_of_length()==six_long"
   ]
  },
  {
   "cell_type": "code",
   "execution_count": 113,
   "metadata": {
    "ExecuteTime": {
     "end_time": "2017-10-15T20:12:07.443131Z",
     "start_time": "2017-10-15T22:12:07.287040+02:00"
    }
   },
   "outputs": [
    {
     "name": "stdout",
     "output_type": "stream",
     "text": [
      "{'Followers', 'Sunday', 'Mincing', 'Priest', 'England', 'Norwegian', 'D', 'Herod', 'Rome', 'Second', 'Wittenberg', 'Danish', 'May', 'Horatio', 'Christian', 'Lord', 'Niobe', 'Caesar', 'Valentine', 'Poland', 'Neptune', 'Sentinels', 'Cock', 'Saint', 'Bernardo', 'Murther', 'Hecate', 'France', 'Robin', 'Lucianus', 'Ilium', 'Army', 'Kettledrums', 'Fortune', 'Damon', 'Greeks', 'Ber', 'Ophelia', 'Mercury', 'Gentlemen', 'Dido', 'Hamlet', 'Switzers', 'Reynaldo', 'Vienna', 'Proper', 'Grace', 'Scripture', 'Polack', 'A', 'Trumpets', 'Norman', 'Pole', 'Death', 'Gonzago', 'Denmark', 'Elsinore', 'Yourself', 'Hecuba', 'To', 'Sailors', 'Marcellus', 'Highness', 'Yaughan', 'Attendant', 'Priam', 'Hymen', 'Jephthah', 'Israel', 'Devil', 'Rosencrantz', 'Vulcan', 'Mighty', 'Ambassadors', 'Attendants', 'E', 'Polonius', 'Lady', 'Roman', 'Mousetrap', 'Italian', 'Father', 'You', 'Gis', 'Lords', 'Clowns', 'Property', 'Voltemand', 'English', 'Mars', 'Positively', 'We', 'Cyclops', 'O', 'Swallowed', 'Cain', 'Adam', 'Politician', 'Gentleman', 'Prologue', 'Provincial', 'Pictures', 'Phoebus', 'Ghost', 'Chamberlain', 'Messenger', 'Young', 'Fortinbras', 'Normandy', 'God', 'Saviour', 'Players', 'Delver', 'V', 'Claudio', 'Gertrude', 'Majesty', 'Monday', 'Lethe', 'Nemean', 'Dane', 'John', 'King', 'Olympus', 'Rhenish', 'Frenchman', 'Queen', 'Laertes', 'Turk', 'Hercules', 'Danskers', 'Julius', 'Our', 'Pyrrhus', 'William', 'H', 'Cornelius', 'Polacks', 'Claudius', 'Your', 'Tellus', 'Captain', 'I', 'Norway', 'Castle', 'Majesties', 'Pit', 'Virtue', 'Osric', 'Poisoner', 'Yorick', 'First', 'Nero', 'Jove', 'Personae', 'Guildenstern', 'Guard', 'Roscius', 'Nature', 'Alexander', 'Mutes', 'T', 'Pelion', 'Ossa', 'Barbary', 'French', 'Paris', 'Drum', 'Everlasting'}\n",
      "{'Aside', 'Sunday', 'Priest', 'Norwegian', 'Rome', 'What', 'Wittenberg', 'Horatio', 'Exit', 'Lord', 'Niobe', 'Sentinels', 'Bernardo', 'Nay', 'Saint', 'Prince', 'France', 'Stop', \"God's\", 'Mar', 'Fortune', 'Ber', 'Ophelia', 'Writes', \"Saviour's\", 'Doubt', 'Hamlet', 'Reynaldo', 'Soldiers', 'Polack', \"Neptune's\", 'Denmark', \"Hamlet's\", 'Elsinore', 'Gives', 'There', 'Sailors', 'Marcellus', 'Highness', 'Attendant', 'Enter', 'Rosencrantz', 'Shakespeare', 'Ambassadors', 'Attendants', 'Thine', 'Polonius', 'Roman', 'Man', 'Good', 'Father', 'You', \"King's\", 'Clowns', 'Voltemand', 'And', 'Going', 'Positively', 'Patrick', 'Have', 'That', 'Gentleman', 'They', 'Tis', 'Ghost', 'Chamberlain', 'This', 'Fortinbras', 'Reads', 'Well', 'God', 'Gertrude', 'Majesty', 'Lethe', 'Officers', 'Nemean', \"Fortune's\", 'Dane', 'King', 'Rhenish', 'For', 'Queen', 'Laertes', 'Francisco', 'Hercules', 'Stay', 'Julius', 'Danskers', 'William', 'Cornelius', 'Polacks', 'Claudius', 'Captain', 'Messengers', 'Norway', 'Castle', 'Majesties', 'Adieu', 'Personae', 'Guildenstern', 'Volt', 'Officer', 'Paris', 'Everlasting'}\n"
     ]
    }
   ],
   "source": [
    "def propers(text=it):\n",
    "    lines = re.split(r\"\\s{2,}\", text)\n",
    "    unique_names_pattern = re.compile(r\"(?<![\\.|\\?|\\!|\\]]\\s)[A-Z][a-z][\\w']+\")\n",
    "    unique_names = []\n",
    "    for line in lines:\n",
    "        unique_names.extend(unique_names_pattern.findall(line[1:]))\n",
    "    return set(unique_names)\n",
    "print(the_propers)\n",
    "print(propers())"
   ]
  },
  {
   "cell_type": "markdown",
   "metadata": {},
   "source": [
    "**Ćwiczenie (aktywność)**: Co robi ':?'. Proszę odpowiedzieć oraz zilustrować na (minimum dwóch) przykładach."
   ]
  },
  {
   "cell_type": "code",
   "execution_count": null,
   "metadata": {
    "collapsed": true
   },
   "outputs": [],
   "source": []
  },
  {
   "cell_type": "markdown",
   "metadata": {},
   "source": [
    "## NLTK\n",
    "na podstawie http://www.nltk.org/book/ch01.html"
   ]
  },
  {
   "cell_type": "code",
   "execution_count": 114,
   "metadata": {
    "ExecuteTime": {
     "end_time": "2017-10-15T20:12:15.074534Z",
     "start_time": "2017-10-15T22:12:07.446202+02:00"
    }
   },
   "outputs": [
    {
     "name": "stdout",
     "output_type": "stream",
     "text": [
      "showing info https://raw.githubusercontent.com/nltk/nltk_data/gh-pages/index.xml\n"
     ]
    },
    {
     "data": {
      "text/plain": [
       "True"
      ]
     },
     "execution_count": 114,
     "metadata": {},
     "output_type": "execute_result"
    }
   ],
   "source": [
    "import nltk\n",
    "nltk.download()"
   ]
  },
  {
   "cell_type": "code",
   "execution_count": 115,
   "metadata": {
    "ExecuteTime": {
     "end_time": "2017-10-15T20:12:15.084372Z",
     "start_time": "2017-10-15T22:12:15.079360+02:00"
    }
   },
   "outputs": [],
   "source": [
    "# ściągamy przykładowe korpusy\n",
    "from nltk.book import *"
   ]
  },
  {
   "cell_type": "code",
   "execution_count": 116,
   "metadata": {
    "ExecuteTime": {
     "end_time": "2017-10-15T20:12:15.206319Z",
     "start_time": "2017-10-15T22:12:15.088071+02:00"
    }
   },
   "outputs": [
    {
     "name": "stdout",
     "output_type": "stream",
     "text": [
      "['_CONTEXT_RE', '_COPY_TOKENS', '__class__', '__delattr__', '__dict__', '__dir__', '__doc__', '__eq__', '__format__', '__ge__', '__getattribute__', '__getitem__', '__gt__', '__hash__', '__init__', '__init_subclass__', '__le__', '__len__', '__lt__', '__module__', '__ne__', '__new__', '__reduce__', '__reduce_ex__', '__repr__', '__setattr__', '__sizeof__', '__str__', '__subclasshook__', '__unicode__', '__weakref__', '_concordance_index', '_context', '_vocab', '_word_context_index', 'collocations', 'common_contexts', 'concordance', 'count', 'dispersion_plot', 'findall', 'generate', 'index', 'name', 'plot', 'readability', 'similar', 'tokens', 'unicode_repr', 'vocab']\n"
     ]
    }
   ],
   "source": [
    "# metody\n",
    "print(dir(text3))"
   ]
  },
  {
   "cell_type": "code",
   "execution_count": 117,
   "metadata": {
    "ExecuteTime": {
     "end_time": "2017-10-15T20:12:15.336173Z",
     "start_time": "2017-10-15T22:12:15.208166+02:00"
    }
   },
   "outputs": [
    {
     "name": "stdout",
     "output_type": "stream",
     "text": [
      "['In', 'the', 'God', 'created', 'heaven', 'and', 'earth', '.', 'And', 'was', ',', ';', 'upon', 'face', 'of', 'waters', 'said', 'Let', 'there', 'be', 'light', ':', 'saw', 'that', 'it', 'good', 'from', 'called', 'he', 'morning', 'were', 'first', 'day', 'a', 'in', 'let', 'made', 'which', 'under', 'above', 'so', 'second', 'gathered', 'together', 'unto', 'one', 'place', 'land', 'bring', 'forth', 'seed', 'tree', 'after', 'his', 'kind', 'whose', 'is', 'brought', 'to', 'night', 'them', 'for', 'days', 'yea', 'give', 'two', 'great', 'also', 'set', 'over', 'hath', 'life', 'fowl', 'may', 'every', 'living', 'their', 'blessed', 'saying', 'fruitful', 'multiply', 'cattle', 'thing', 'beast', 'us', 'make', 'man', 'our', 'have', 'all', 'So', 'him', 'male', 'Behold', 'I', 'given', 'you', 'shall', 'me', 'had', 'behold', 'very', 'Thus', 'on', 'because', 'These', 'are', 'generations', 'when', 'they', 'LORD', 'field', 'before', 'not', 'ground', 'But', 'went', 'up', 'into', 'became', 'soul', 'garden', 'put', 'whom', 'out', 'sight', 'food', 'evil', 'river', 'water', 'thence', 'four', 'The', 'name', 'where', 'stone', 'same', 'toward', 'east', 'took', 'keep', 'commanded', 'thou', 'shalt', 'eat', 'thereof', 'surely', 'die', 'should', 'will', 'an', 'meet', 'Adam', 'see', 'what', 'th', 'gave', 'but', 'found', 'flesh', 'taken', 'woman', 'her', 'This', 'now', 'my', 'she', 'Therefore', 'father', 'mother', 'wife', 'both', 'Now', 'more', 'than', 'any', '?', 'We', 'neither', 'ye', 'lest', 'For', 'know', 'then', 'your', 'eyes', 'opened', 'as', 'did', 'with', 'knew', 'themselves', 'heard', 'voice', 'art', 'thy', 'told', 'thee', 'What', 'this', 'hast', 'done', 'Because', 'go', 'between', 'head', 'children', 'Thou', 'sake', 'bread', \"'\", 's', 'hand', 'take', 'live', 'sent', 'at', 'way', 'conceived', 'bare', 'Cain', 'again', 'brother', 'sheep', 'time', 'came', 'pass', 'flock', 'fell', 'If', 'well', 'if', 'door', 'rose', 'against', 'blood', 'mouth', 'My', 'bear', 'come', 'slay', 'dwelt', 'city', 'son', 'born', 'begat', 'wives', 'other', 'such', 'dwell', 'sister', 'young', 'another', 'men', 'lived', 'hundred', 'thirty', 'years', 'sons', 'daughters', 'nine', 'died', 'five', 'seven', 'forty', 'ten', 'three', 'Noah', 'hands', 'old', 'Shem', 'That', 'yet', 'twenty', 'heart', 'only', 'destroy', 'grace', 'looked', 'ark', 'even', 'do', 'flood', 'covenant', 'alive', 'according', 'house', 'seen', 'by', 'off', 'month', 'h', 'things', 'returned', 'until', 'no', 'lo', 'spake', 'Go', 'altar', 'fear', 'bow', 'Canaan', 'wine', 'tent', 'brethren', 'laid', 'younger', 'servant', 'servants', 'these', 'nations', 'Heth', 'Sodom', 'plain', 'we', 'down', 'people', 'left', 'Nahor', 'Abram', 'Haran', 'Lot', 'Sarai', 'daughter', 'child', 'country', 'bless', 'departed', 'who', 'Bethel', 'famine', 'Egypt', 'near', 'Egyptians', 'say', 'pray', 'Pharaoh', 'asses', 'camels', 'tell', 'might', 'therefore', 'away', 'been', 'flocks', 'herds', 'could', 'Is', 'wilt', 'or', 'lifted', 'Then', 'thine', 'king', 'fled', 'himself', 'mine', 'am', 'buried', 'Hagar', 'maid', 'Ishmael', 'here', 'Wherefore', 'Abraham', 'possession', 'among', 'circumcised', 'bought', 'money', 'Sarah', 'Isaac', 'stood', 'bowed', 'little', 'lord', 'find', 'answered', 'speak', 'lay', 'cannot', 'pillar', 'cave', 'firstborn', 'drink', 'Abimelech', 'dream', 'dead', 'lad', 'Beersheba', 'wept', 'chief', 'digged', 'blessing', 'Rebekah', 'bury', 'Ephron', 'about', 'send', 'master', 'Laban', 'words', 'Esau', 'Jacob', 'Edom', 'corn', 'Thy', 'dreamed', 'Rachel', 'Leah', 'favoured', 'Judah', 'Reuben', 'Joseph', 'kine', 'Israel', 'Shechem', 'Hamor', 'ears', 'Benjamin', 'dukes', 'duke', 'Ephraim', 'buy']\n"
     ]
    }
   ],
   "source": [
    "# wszystkie słowa, które występują minimum 10 razy\n",
    "min_count = 10\n",
    "a = [i for i in text3.vocab() if text3.vocab()[i]>min_count]\n",
    "print(a)"
   ]
  },
  {
   "cell_type": "code",
   "execution_count": 118,
   "metadata": {
    "ExecuteTime": {
     "end_time": "2017-10-15T20:12:15.892120Z",
     "start_time": "2017-10-15T22:12:15.351755+02:00"
    }
   },
   "outputs": [
    {
     "data": {
      "image/png": "[encoded data removed]",
      "text/plain": [
       "<matplotlib.figure.Figure at 0x7f19a111c2b0>"
      ]
     },
     "metadata": {},
     "output_type": "display_data"
    }
   ],
   "source": [
    "# gdzie w tekście występują dane słowa\n",
    "text3.dispersion_plot(['God', 'Adam', 'Noah', 'Abraham', 'Isaac', 'Joseph'])"
   ]
  },
  {
   "cell_type": "code",
   "execution_count": 119,
   "metadata": {
    "ExecuteTime": {
     "end_time": "2017-10-15T20:12:15.902415Z",
     "start_time": "2017-10-15T22:12:15.895150+02:00"
    }
   },
   "outputs": [
    {
     "name": "stdout",
     "output_type": "stream",
     "text": [
      "Displaying 12 of 12 matches:\n",
      "ence unto a mountain on the east of Bethel , and pitched his tent , having Bet\n",
      "hel , and pitched his tent , having Bethel on the west , and Hai on the ea and\n",
      "his journeys from the south even to Bethel , unto the place where his tent had\n",
      "had been at the beginning , between Bethel and Hai ; Unto the place of the alt\n",
      "nd he called the name of that place Bethel : but the name of that city was cal\n",
      "n doeth unto thee . I am the God of Bethel , where thou anointedst the pillar \n",
      " said unto Jacob , Arise , go up to Bethel , and dwell the and make there an a\n",
      "men And let us arise , and go up to Bethel ; and I will make there an altar un\n",
      "s in the land of Canaan , that is , Bethel , he and all the people that were w\n",
      "e died , and she was buried beneath Bethel under an o and the name of it was c\n",
      "he place where God spake with him , Bethel . And they journeyed from Bethel ; \n",
      " , Bethel . And they journeyed from Bethel ; and there was but a little way to\n"
     ]
    }
   ],
   "source": [
    "# wypisuje pojawienie się słowa wraz z kontektstem\n",
    "text3.concordance(\"Bethel\")"
   ]
  },
  {
   "cell_type": "code",
   "execution_count": 120,
   "metadata": {
    "ExecuteTime": {
     "end_time": "2017-10-15T20:12:16.062915Z",
     "start_time": "2017-10-15T22:12:15.904258+02:00"
    }
   },
   "outputs": [
    {
     "name": "stdout",
     "output_type": "stream",
     "text": [
      "he joseph pharaoh jacob they abraham she isaac sarah them him it i me\n",
      "abram laban thee cain esau judah\n",
      "---\n",
      "it him that men queequeg them ahab he life man nature time what head\n",
      "sight heart body i all this\n"
     ]
    }
   ],
   "source": [
    "# Jakie słowa pojawiają się w podobnym kontekście, co zadane słowo\n",
    "text3.similar(\"God\")\n",
    "print('---')\n",
    "text1.similar(\"God\")\n",
    "# zauważ, że te słowa mogą być różne w zależności od korpusu, który jest używany"
   ]
  },
  {
   "cell_type": "code",
   "execution_count": 121,
   "metadata": {
    "ExecuteTime": {
     "end_time": "2017-10-15T20:12:16.094186Z",
     "start_time": "2017-10-15T22:12:16.064423+02:00"
    }
   },
   "outputs": [
    {
     "name": "stdout",
     "output_type": "stream",
     "text": [
      "a_and his_and the_of younger_and\n",
      "---\n",
      "and_returned and_had when_saw that_had and_said and_called and_shall\n",
      "which_had and_went and_sat and_saw when_had and_made and_gave and_sent\n",
      "because_had\n"
     ]
    }
   ],
   "source": [
    "# konteksty, które są wspólne dla kilku słów\n",
    "text3.common_contexts(['son', 'daughter'])\n",
    "print('---')\n",
    "text3.common_contexts(['she', 'he', 'they'])"
   ]
  },
  {
   "cell_type": "code",
   "execution_count": 122,
   "metadata": {
    "ExecuteTime": {
     "end_time": "2017-10-15T20:12:16.186114Z",
     "start_time": "2017-10-15T22:12:16.096205+02:00"
    }
   },
   "outputs": [
    {
     "name": "stdout",
     "output_type": "stream",
     "text": [
      "231\n",
      "231\n",
      "---\n",
      "FreqDist({',': 3681, 'and': 2428, 'the': 2411, 'of': 1358, '.': 1315, 'And': 1250, 'his': 651, 'he': 648, 'to': 611, ';': 605, ...})\n",
      "---\n",
      "{'In': 12, 'the': 2411, 'beginning': 5, 'God': 231, 'created': 11, 'heaven': 28, 'and': 2428, 'earth': 111, '.': 1315, 'And': 1250, 'was': 317, 'without': 9, 'form': 1, ',': 3681, 'void': 1, ';': 605, 'darkness': 4, 'upon': 139, 'face': 47, 'of': 1358, 'deep': 6, 'Spirit': 2, 'moved': 2, 'waters': 32, 'said': 476, 'Let': 29, 'there': 116, 'be': 254, 'light': 11, ':': 238, 'saw': 57, 'that': 509, 'it': 290, 'good': 44, 'divided': 10, 'from': 157, 'called': 98, 'Day': 1, 'he': 648, 'Night': 1, 'evening': 10, 'morning': 20, 'were': 163, 'first': 16, 'day': 71, 'a': 342, 'firmament': 8, 'in': 588, 'midst': 6, 'let': 64, 'divide': 5, 'made': 72, 'which': 198, 'under': 17, 'above': 11, 'firmame': 1, 'so': 52, 'Heaven': 1, 'second': 14, 'gathered': 15, 'together': 16, 'unto': 590, 'one': 70, 'place': 46, 'dry': 4, 'land': 184, 'appe': 1, 'Earth': 1, 'gathering': 2, 'Se': 4, 'bring': 40, 'forth': 43, 'grass': 2, 'herb': 7, 'yielding': 5, 'seed': 58, 'fruit': 9, 'tree': 21, 'after': 107, 'his': 651, 'kind': 13, 'whose': 16, 'is': 267, 'itself': 2, 'ear': 9, 'brought': 60, 'ki': 5, 'third': 10, 'lights': 3, 'to': 611, 'night': 27, 'them': 230, 'for': 297, 'signs': 1, 'seasons': 1, 'days': 61, 'yea': 13, 'give': 59, 'two': 52, 'great': 32, 'greater': 5, 'rule': 5, 'lesser': 1, 'nig': 1, 'stars': 5, 'also': 81, 'set': 31, 'over': 49, 'darkne': 1, 'fourth': 3, 'abundantly': 4, 'moving': 2, 'creature': 8, 'hath': 80, 'life': 31, 'fowl': 16, 'may': 43, 'fly': 1, 'open': 2, 'whales': 1, 'every': 88, 'living': 16, 'moveth': 3, 'their': 153, 'winged': 1, 'blessed': 43, 'saying': 79, 'Be': 3, 'fruitful': 14, 'multiply': 18, 'fill': 2, 'seas': 1, 'fifth': 5, 'cattle': 50, 'creeping': 9, 'thing': 39, 'beast': 20, 'creepeth': 8, 'us': 93, 'make': 46, 'man': 114, 'our': 63, 'image': 5, 'likene': 1, 'have': 132, 'dominion': 4, 'fish': 2, 'sea': 8, 'air': 8, 'all': 245, 'So': 21, 'own': 8, 'him': 387, 'male': 11, 'female': 7, 'replenish': 2, 'subdue': 1, 'Behold': 53, 'I': 484, 'given': 21, 'you': 82, 'bearing': 4, 'shall': 253, 'meat': 10, 'wherein': 8, 'green': 3, 'me': 282, 'had': 139, 'behold': 65, 'very': 18, 'sixth': 2, 'Thus': 12, 'heavens': 3, 'finished': 1, 'host': 4, 'on': 57, 'seventh': 4, 'ended': 3, 'work': 4, 'rested': 3, 'sanctified': 1, 'because': 54, 'These': 21, 'are': 119, 'generations': 16, 'when': 112, 'they': 249, 'LORD': 166, 'plant': 1, 'field': 44, 'before': 91, 'gr': 1, 'not': 224, 'caused': 4, 'rain': 4, 'till': 7, 'ground': 24, 'But': 37, 'went': 110, 'up': 122, 'mist': 1, 'watered': 5, 'whole': 10, 'formed': 3, 'dust': 8, 'breathed': 1, 'into': 86, 'nostrils': 2, 'breath': 4, 'became': 12, 'soul': 13, 'planted': 3, 'garden': 13, 'eastward': 3, 'Eden': 6, 'put': 40, 'whom': 25, 'out': 106, 'grow': 2, 'pleasant': 3, 'sight': 17, 'food': 19, 'knowledge': 2, 'evil': 16, 'river': 14, 'water': 27, 'thence': 18, 'parted': 1, 'four': 12, 'heads': 2, 'The': 50, 'name': 100, 'Pison': 1, 'compasseth': 2, 'Havilah': 4, 'where': 20, 'gold': 8, 'bdellium': 1, 'onyx': 1, 'stone': 11, 'Gihon': 1, 'same': 22, 'Ethiopia': 1, 'Hiddekel': 1, 'goeth': 4, 'toward': 19, 'east': 12, 'Assyria': 1, 'Euphrates': 1, 'took': 81, 'dress': 2, 'keep': 13, 'commanded': 18, 'Of': 6, 'thou': 272, 'mayest': 5, 'freely': 1, 'e': 2, 'shalt': 73, 'eat': 47, 'eatest': 1, 'thereof': 12, 'surely': 15, 'die': 25, 'It': 9, 'should': 21, 'alone': 3, 'will': 195, 'an': 76, 'help': 3, 'meet': 12, 'Adam': 18, 'see': 25, 'what': 19, 'would': 7, 'call': 8, 'th': 19, 'whatsoever': 5, 'gave': 48, 'names': 10, 'but': 66, 'found': 37, 'sleep': 5, 'fall': 4, 'sle': 1, 'ribs': 1, 'closed': 2, 'flesh': 26, 'instead': 3, 'rib': 1, 'taken': 21, 'woman': 20, 'her': 173, 'This': 22, 'now': 56, 'bone': 2, 'my': 325, 'bones': 2, 'fle': 2, 'she': 161, 'Woman': 1, 'Man': 1, 'Therefore': 12, 'leave': 6, 'father': 198, 'mother': 28, 'cleave': 1, 'wife': 104, 'both': 29, 'naked': 4, 'ashamed': 1, 'Now': 31, 'serpent': 6, 'more': 21, 'subtil': 1, 'than': 15, 'any': 23, 'Yea': 2, 'Ye': 9, '?': 148, 'We': 17, 'trees': 3, 'gard': 1, 'neither': 12, 'ye': 87, 'touch': 2, 'lest': 14, 'For': 29, 'doth': 3, 'know': 22, 'then': 33, 'your': 82, 'eyes': 37, 'opened': 12, 'as': 112, 'gods': 5, 'knowing': 1, 'desired': 1, 'wise': 4, 'did': 58, 'husband': 7, 'with': 289, 'knew': 17, 'sewed': 1, 'fig': 1, 'leaves': 1, 'themselves': 14, 'aprons': 1, 'heard': 30, 'voice': 22, 'walking': 1, 'cool': 1, 'd': 5, 'hid': 4, 'presence': 10, 'amongst': 2, 'Where': 5, 'art': 31, 'thy': 267, 'afraid': 9, 'myself': 2, 'Who': 6, 'told': 34, 'thee': 257, 'wast': 4, 'Hast': 4, 'eaten': 9, 'whereof': 1, 'shouldest': 4, 'gavest': 1, 'What': 27, 'this': 123, 'hast': 52, 'done': 36, 'beguiled': 2, 'Because': 11, 'cursed': 5, 'belly': 1, 'go': 64, 'li': 2, 'enmity': 1, 'between': 25, 'bruise': 2, 'head': 16, 'heel': 2, 'Unto': 8, 'greatly': 5, 'sorrow': 6, 'conception': 1, 'children': 62, 'desire': 2, 'hearkened': 7, 'Thou': 12, 'sake': 11, 'Thorns': 1, 'thistles': 1, 'sweat': 1, 'bread': 22, 'return': 6, 'tak': 1, \"'\": 268, 's': 263, 'Eve': 2, 'coats': 1, 'skins': 2, 'clothed': 1, 'become': 9, 'ev': 4, 'hand': 82, 'take': 47, 'live': 11, 'sent': 44, 'whence': 4, 'drove': 6, 'placed': 2, 'at': 53, 'Cherubims': 1, 'flaming': 1, 'sword': 6, 'turned': 6, 'way': 34, 'conceived': 22, 'bare': 56, 'Cain': 16, 'gotten': 6, 'again': 44, 'brother': 91, 'Abel': 8, 'keeper': 5, 'sheep': 17, 'tiller': 1, 'process': 2, 'time': 25, 'came': 177, 'pass': 81, 'offering': 8, 'firstlings': 1, 'flock': 14, 'fat': 5, 'respect': 2, 'offeri': 2, 'wroth': 6, 'countenance': 4, 'fell': 12, 'Why': 3, 'why': 5, 'fallen': 1, 'If': 18, 'doest': 2, 'well': 49, 'accepted': 2, 'if': 35, 'sin': 8, 'lieth': 2, 'door': 12, 'talked': 5, 'rose': 21, 'against': 23, 'slew': 7, 'n': 4, 'Am': 2, 'blood': 11, 'crieth': 1, 'mouth': 14, 'receive': 3, 'When': 8, 'tillest': 1, 'henceforth': 1, 'yield': 2, 'strength': 3, 'fugitive': 2, 'vagabond': 2, 'My': 18, 'punishment': 1, 'can': 7, 'bear': 13, 'driven': 1, 'come': 67, 'findeth': 1, 'slay': 11, 'whosoever': 1, 'slayeth': 1, 'vengeance': 1, 'sevenfold': 3, 'mark': 1, 'finding': 1, 'kill': 5, 'dwelt': 26, 'Nod': 1, 'Enoch': 8, 'builded': 7, 'city': 41, 'son': 152, 'born': 33, 'Irad': 2, 'begat': 67, 'Mehujael': 2, 'Methusa': 1, 'Methusael': 1, 'Lamech': 10, 'wives': 22, 'Adah': 8, 'other': 16, 'Zillah': 3, 'Jabal': 1, 'such': 11, 'dwell': 22, 'tents': 5, 'Jubal': 1, 'handle': 1, 'harp': 2, 'organ': 1, 'Tubalcain': 2, 'instructor': 1, 'artificer': 1, 'brass': 1, 'ir': 1, 'sister': 21, 'Naamah': 1, 'Hear': 3, 'hearken': 5, 'spee': 1, 'slain': 2, 'wounding': 1, 'young': 12, 'hurt': 4, 'avenged': 1, 'truly': 4, 'seventy': 5, 'appointed': 4, 'another': 15, 'Seth': 5, 'En': 1, 'began': 6, 'men': 65, 'book': 1, 'likeness': 2, 'Male': 1, 'lived': 38, 'hundred': 61, 'thirty': 17, 'years': 102, 'begotten': 1, 'eight': 10, 'sons': 142, 'daughters': 53, 'nine': 12, 'died': 33, 'five': 22, 'Enos': 5, 'seven': 54, 'daughte': 8, 'twelve': 6, 'ninety': 6, 'Cainan': 5, 'fifteen': 2, 'Mahalaleel': 5, 'forty': 15, 'ten': 18, 'sixty': 6, 'Jared': 5, 'Eno': 1, 'Methuselah': 5, 'walked': 3, 'three': 30, 'eighty': 3, 'Noah': 41, 'comfort': 4, 'concerning': 6, 'toil': 2, 'hands': 18, 'old': 45, 'Shem': 14, 'Ham': 10, 'Japheth': 7, 'That': 11, 'fair': 5, 'chose': 2, 'spirit': 3, 'always': 1, 'strive': 2, 'yet': 35, 'twenty': 11, 'There': 5, 'giants': 1, 'those': 8, 'mighty': 7, 'renown': 1, 'wickedness': 2, 'imagination': 2, 'thoughts': 1, 'heart': 11, 'only': 13, 'continually': 3, 'repented': 1, 'grieved': 4, 'destroy': 15, 'fowls': 5, 'repenteth': 1, 'grace': 11, 'just': 1, 'perfect': 2, 'corrupt': 2, 'filled': 5, 'violence': 2, 'looked': 15, 'corrupted': 1, 'end': 9, 'through': 5, 'Make': 2, 'ark': 25, 'gopher': 1, 'wood': 5, 'rooms': 1, 'pitch': 2, 'within': 9, 'fashion': 1, 'length': 2, 'cubits': 4, 'breadth': 2, 'fifty': 9, 'height': 1, 'A': 2, 'window': 3, 'cubit': 1, 'finish': 1, 'side': 2, 'lower': 1, 'stories': 1, 'even': 28, 'do': 45, 'flood': 11, 'establish': 6, 'covenant': 26, 'sort': 3, 'alive': 12, 'gather': 3, 'according': 32, 'Come': 8, 'house': 82, 'seen': 11, 'righteous': 10, 'generation': 3, 'clean': 7, 'by': 80, 'sevens': 2, 'fema': 1, 'beasts': 6, 'cause': 1, 'nights': 2, 'substance': 7, 'off': 20, 'six': 7, 'hundredth': 2, 'year': 9, 'month': 12, 'seventeenth': 2, 'fountains': 2, 'broken': 3, 'windows': 2, 'selfsame': 3, 'entered': 5, 'They': 6, 'bird': 1, 'h': 17, 'shut': 3, 'increased': 4, 'lift': 8, 'prevailed': 7, 'exceedingly': 8, 'high': 6, 'hills': 1, 'covered': 6, 'Fifteen': 1, 'upward': 1, 'prevail': 2, 'mountains': 4, 'm': 5, 'All': 5, 'destroyed': 5, 'things': 16, 'remained': 2, 'remembered': 4, 'wind': 4, 'asswaged': 1, 'stopped': 3, 'restrained': 3, 'returned': 18, 'abated': 3, 'Ararat': 1, 'decreased': 1, 'until': 17, 'tenth': 3, 'tops': 1, 'ma': 1, 'raven': 1, 'fro': 1, 'dried': 3, 'Also': 2, 'dove': 5, 'no': 26, 'rest': 4, 'sole': 1, 'foot': 2, 'pulled': 2, 'stayed': 3, 'lo': 11, 'olive': 1, 'leaf': 1, 'pluckt': 1, 'o': 5, 'removed': 6, 'covering': 2, 'twentieth': 1, 'spake': 39, 'Go': 14, 'Bring': 8, 'breed': 1, 'Every': 3, 'kinds': 1, 'altar': 13, 'offered': 4, 'burnt': 8, 'offerings': 1, 'smelled': 2, 'sweet': 1, 'savour': 1, 'curse': 4, 'youth': 2, 'smite': 3, 'While': 1, 'remaineth': 1, 'seedtime': 1, 'harvest': 3, 'cold': 1, 'heat': 2, 'summer': 1, 'winter': 1, 'cease': 1, 'fear': 11, 'dread': 1, 'fishes': 1, 'delivered': 5, 'liveth': 1, 'lives': 3, 'require': 5, 'Whoso': 1, 'sheddeth': 1, 'shed': 1, 'therein': 10, 'cut': 2, 'token': 4, 'perpetual': 1, 'generatio': 2, 'bow': 11, 'cloud': 3, 'clo': 1, 'remember': 4, 'look': 9, 'everlasting': 8, 'established': 2, 'Japhe': 2, 'Canaan': 43, 'overspread': 1, 'husbandman': 1, 'vineyard': 1, 'drank': 4, 'wine': 11, 'drunken': 1, 'uncovered': 1, 'tent': 22, 'nakedness': 5, 'brethren': 80, 'garment': 8, 'laid': 13, 'shoulders': 1, 'backward': 3, 'faces': 4, 'awoke': 4, 'younger': 14, 'Cursed': 2, 'servant': 41, 'servants': 37, 'Blessed': 3, 'enlarge': 1, 'these': 81, 'Gomer': 2, 'Magog': 1, 'Madai': 1, 'Javan': 2, 'Tubal': 1, 'Meshech': 1, 'Tiras': 1, 'Ashkenaz': 1, 'Riphath': 1, 'Togarmah': 1, 'Elishah': 1, 'Tarshish': 1, 'Kittim': 1, 'Dodanim': 1, 'By': 4, 'isles': 1, 'Gentiles': 1, 'lands': 5, 'tongue': 1, 'families': 9, 'nations': 18, 'Cush': 3, 'Mizraim': 2, 'Phut': 1, 'Seba': 1, 'Sabtah': 1, 'Raamah': 2, 'Sabtech': 1, 'Sheba': 3, 'Dedan': 3, 'Nimrod': 2, 'He': 7, 'hunter': 3, 'wherefore': 7, 'Even': 2, 'kingdom': 2, 'Babel': 2, 'Erech': 1, 'Accad': 1, 'Calneh': 1, 'Shinar': 4, 'Out': 2, 'Asshur': 2, 'Nineveh': 2, 'Rehoboth': 3, 'Calah': 2, 'Resen': 1, 'Ludim': 1, 'Anamim': 1, 'Lehabim': 1, 'Naphtuhim': 1, 'Pathrusim': 1, 'Casluhim': 1, '(': 6, 'Philistim': 1, ',)': 1, 'Caphtorim': 1, 'Sidon': 2, 'Heth': 12, 'Jebusite': 1, 'Amorite': 3, 'Girgasite': 1, 'Hivite': 3, 'Arkite': 1, 'Sinite': 1, 'Arvadite': 1, 'Zemarite': 1, 'Hamathite': 1, 'afterward': 4, 'Canaanites': 7, 'spread': 4, 'abroad': 7, 'border': 2, 'comest': 3, 'Gerar': 8, 'Gaza': 1, 'goest': 5, 'Sodom': 19, 'Gomorrah': 9, 'Admah': 3, 'Zeboim': 1, 'Lasha': 1, 'tongues': 2, 'countries': 4, 'Eber': 7, 'elder': 4, 'Elam': 3, 'Arphaxad': 6, 'Lud': 1, 'Aram': 3, 'Uz': 2, 'Hul': 1, 'Gether': 1, 'Mash': 1, 'Salah': 6, 'Peleg': 5, 'Joktan': 3, 'Almodad': 1, 'Sheleph': 1, 'Hazarmaveth': 1, 'Jerah': 1, 'Hadoram': 1, 'Uzal': 1, 'Diklah': 1, 'Obal': 1, 'Abimael': 1, 'Ophir': 1, 'Jobab': 3, 'dwelling': 3, 'Mesha': 1, 'Sephar': 1, 'mount': 10, 'natio': 1, 'language': 4, 'speech': 2, 'journeyed': 8, 'plain': 12, 'brick': 2, 'burn': 2, 'thoroughly': 1, 'slime': 1, 'morter': 1, 'build': 2, 'tower': 3, 'top': 3, 'reach': 1, 'we': 90, 'scattered': 2, 'down': 59, 'people': 35, 'begin': 1, 'nothing': 4, 'imagined': 1, 'confound': 2, 'understand': 2, 'left': 26, 'scatter': 2, 'flo': 1, 'Reu': 4, 'Serug': 4, 'Nahor': 16, 'Terah': 9, 'nineteen': 1, 'Abram': 58, 'Haran': 13, 'Lot': 30, 'nativity': 1, 'Ur': 3, 'Chaldees': 3, 'Sarai': 17, 'Milcah': 7, 'daughter': 46, 'Iscah': 1, 'barren': 2, 'child': 16, 'law': 10, 'Get': 2, 'country': 16, 'kindred': 10, 'shew': 5, 'nation': 8, 'bless': 23, 'blessi': 1, 'curseth': 2, 'departed': 12, 'spoken': 9, 'souls': 8, 'passed': 8, 'Sichem': 1, 'Moreh': 1, 'Canaanite': 3, 'appeared': 10, 'la': 3, 'who': 18, 'mountain': 5, 'Bethel': 12, 'pitched': 7, 'having': 1, 'west': 2, 'Hai': 2, 'ea': 3, 'going': 3, 'still': 2, 'south': 5, 'famine': 24, 'Egypt': 74, 'sojourn': 3, 'grievous': 6, 'near': 24, 'enter': 1, 'Egyptians': 12, 'say': 23, 'save': 4, 'Say': 2, 'pray': 48, 'beheld': 5, 'princes': 3, 'Pharaoh': 90, 'commended': 1, 'Phara': 4, 'entreated': 1, 'oxen': 5, 'asses': 14, 'menservants': 5, 'maidservants': 5, 'camels': 22, 'plagued': 1, 'plagues': 1, 'didst': 7, 'tell': 17, 'saidst': 6, 'She': 8, 'might': 11, 'therefore': 35, 'away': 37, 'rich': 1, 'silver': 9, 'journeys': 1, 'been': 11, 'fir': 1, 'flocks': 23, 'herds': 11, 'able': 3, 'togeth': 2, 'could': 11, 'strife': 2, 'herdmen': 6, 'catt': 3, 'Perizzite': 1, 'dwelled': 4, 'Is': 11, 'separate': 3, 'thyself': 4, 'wilt': 13, 'right': 10, 'or': 22, 'depart': 2, 'lifted': 16, 'Jordan': 5, 'like': 2, 'Zoar': 6, 'Then': 38, 'separated': 3, 'cities': 8, 'wicked': 4, 'sinners': 1, 'Lift': 2, 'thine': 23, 'northward': 1, 'southward': 1, 'westwa': 1, 'seest': 3, 'ever': 2, 'number': 4, 'numbered': 3, 'Arise': 5, 'walk': 4, 'Mamre': 9, 'Hebron': 5, 'built': 4, 'Amraphel': 2, 'king': 32, 'Arioch': 2, 'Ellasar': 2, 'Chedorlaomer': 5, 'Tidal': 2, 'war': 1, 'Bera': 1, 'Birsha': 1, 'Shinab': 1, 'Shemeber': 1, 'Zeboiim': 2, 'Bela': 4, 'joined': 3, 'vale': 4, 'Siddim': 3, 'salt': 2, 'Twelve': 1, 'served': 9, 'thirteenth': 1, 'rebelled': 1, 'fourteenth': 1, 'kings': 8, 'smote': 5, 'Rephaims': 2, 'Ashteroth': 1, 'Karnaim': 1, 'Zuzims': 1, 'Emins': 1, 'Shaveh': 2, 'Kiriathaim': 1, 'Horites': 3, 'Seir': 8, 'Elparan': 1, 'wilderness': 7, 'Enmishpat': 1, 'Kadesh': 3, 'Amalekites': 1, 'Amorites': 3, 'Hazezontamar': 1, ';)': 1, 'battle': 1, 'With': 4, 'full': 8, 'slimepits': 1, 'fled': 11, 'goods': 8, 'victuals': 1, 'escaped': 1, 'Hebrew': 4, 'Eshcol': 2, 'An': 1, 'confederate': 1, 'captive': 2, 'armed': 1, 'trained': 1, 'eighteen': 1, 'pursued': 4, 'Dan': 6, 'himself': 22, 'Hobah': 1, 'Damascus': 2, 'back': 5, 'women': 5, 'slaughter': 1, 'valley': 3, 'dale': 1, 'Melchizedek': 1, 'Salem': 1, 'priest': 4, 'most': 4, 'possessor': 2, 'enemies': 3, 'tithes': 1, 'Give': 8, 'persons': 2, 'mine': 14, 'thread': 3, 'shoelatchet': 1, 'ri': 1, 'Save': 1, 'portion': 6, 'Aner': 1, 'After': 3, 'word': 7, 'vision': 1, 'Fear': 3, 'Abr': 1, 'am': 43, 'shield': 1, 'exceeding': 3, 'reward': 1, 'seeing': 7, 'childless': 1, 'steward': 4, 'Eliezer': 1, 'heir': 4, 'bowels': 3, 'Look': 1, 'believed': 2, 'counted': 3, 'righteousness': 2, 'inherit': 3, 'whereby': 2, 'Take': 6, 'heifer': 1, 'goat': 1, 'ram': 3, 'turtledove': 1, 'pigeon': 1, 'each': 7, 'piece': 1, 'anoth': 2, 'birds': 3, 'carcases': 1, 'sun': 6, 'horror': 1, 'Know': 2, 'surety': 5, 'stranger': 7, 'serve': 9, 'afflict': 2, 'judge': 5, 'fathers': 9, 'peace': 7, 'buried': 13, 'age': 9, 'hither': 4, 'iniquity': 3, 'dark': 1, 'smoking': 1, 'furnace': 2, 'burning': 1, 'lamp': 1, 'pieces': 7, 'Euphrat': 1, 'Kenites': 1, 'Kenizzites': 1, 'Kadmonites': 1, 'Hittites': 1, 'Perizzites': 1, 'Girgashites': 1, 'Jebusites': 1, 'handmaid': 7, 'Egyptian': 7, 'Hagar': 12, 'beari': 1, 'maid': 12, 'obtain': 1, 'mistress': 3, 'despised': 3, 'wrong': 1, 'bosom': 1, 'ey': 2, 'pleaseth': 2, 'dealt': 3, 'hardly': 1, 'angel': 10, 'fountain': 2, 'Shur': 3, 'camest': 3, 'whither': 5, 'flee': 4, 'Return': 3, 'submit': 1, 'multitude': 7, 'Ishmael': 17, 'affliction': 4, 'wild': 1, 'Have': 2, 'here': 12, 'seeth': 2, 'Wherefore': 12, 'Beerlahairoi': 1, 'Bered': 1, 'fourscore': 2, 'Almighty': 6, 'As': 3, 'many': 7, 'Neither': 1, 'Abraham': 129, 'possession': 11, 'among': 20, 'circumcised': 14, 'circumcise': 1, 'foreskin': 5, 'betwixt': 10, 'bought': 11, 'money': 32, 'must': 6, 'needs': 4, 'circumcis': 1, 'uncircumcised': 2, 'Sarah': 37, 'laughed': 3, 'Shall': 6, 'O': 9, '!': 2, 'indeed': 8, 'Isa': 3, 'beget': 1, 'Isaac': 77, 'next': 1, 'talking': 1, 'thirteen': 1, 'plains': 1, 'sat': 9, 'stood': 17, 'ran': 9, 'bowed': 16, 'favour': 3, 'serva': 2, 'little': 20, 'fetched': 2, 'wash': 3, 'feet': 7, 'yourselves': 4, 'tr': 1, 'fetch': 5, 'morsel': 1, 'hearts': 1, 'hastened': 2, 'ready': 4, 'quickly': 2, 'measures': 1, 'fine': 2, 'meal': 1, 'knead': 1, 'cakes': 1, 'hearth': 1, 'herd': 1, 'fetcht': 1, 'calf': 2, 'tender': 3, 'hasted': 3, 'butter': 1, 'milk': 2, 'dressed': 1, 'certainly': 5, 'behind': 6, 'stricken': 2, 'ceased': 1, 'manner': 9, 'herself': 4, 'waxed': 3, 'pleasure': 1, 'lord': 41, 'being': 8, 'laugh': 4, 'too': 1, 'hard': 3, 'At': 1, 'denied': 1, 'Nay': 6, 'hide': 2, 'Seeing': 1, 'command': 3, 'household': 5, 'justice': 1, 'judgment': 1, 'cry': 4, 'whether': 8, 'altogether': 1, 'Sod': 2, 'drew': 6, 'Wilt': 3, 'Peradventure': 9, 'spare': 2, 'far': 3, 'wick': 1, 'Judge': 1, 'find': 12, 'sakes': 1, 'answered': 17, 'speak': 13, 'ash': 1, 'lack': 2, 'Oh': 5, 'angry': 3, 'spe': 1, 'LO': 4, 'soon': 3, 'communing': 1, 'Abrah': 5, 'angels': 4, 'gate': 9, 'lords': 1, 'turn': 4, 'tarry': 3, 'rise': 2, 'early': 7, 'ways': 1, 'abide': 4, 'street': 1, 'pressed': 3, 'feast': 5, 'bake': 1, 'unleavened': 1, 'lay': 12, 'compassed': 1, 'round': 5, 'quart': 1, 'wickedly': 1, 'known': 5, 'shadow': 1, 'roof': 1, 'Stand': 1, 'fellow': 1, 'jud': 1, 'deal': 6, 'worse': 1, 'sore': 10, 'break': 2, 'blindness': 1, 'small': 2, 'gre': 3, 'wearied': 1, 'besides': 2, 'pla': 2, 'waxen': 1, 'married': 1, 'Up': 2, 'get': 7, 'seemed': 2, 'mocked': 1, 'arose': 8, 'consumed': 3, 'while': 5, 'lingered': 2, 'hold': 3, 'merciful': 1, 'Escape': 1, 'stay': 1, 'escape': 5, 'magnified': 1, 'mercy': 4, 'shewed': 7, 'saving': 1, 'cannot': 11, 'some': 6, 'thither': 8, '?)': 1, 'See': 5, 'overthrow': 2, 'Haste': 2, 'anything': 1, 'risen': 1, 'rained': 1, 'brimstone': 1, 'fire': 3, 'overthrew': 2, 'inhabitants': 3, 'grew': 6, 'pillar': 12, 'gat': 1, 'smoke': 2, 'feared': 2, 'Zo': 1, 'cave': 11, 'firstborn': 17, 'Our': 1, 'drink': 21, 'lie': 6, 'preserve': 4, 'perceived': 2, 'nor': 7, 'morrow': 1, 'yesternight': 3, 'fath': 3, 'Moab': 2, 'Moabites': 1, 'Benam': 1, 'Ammon': 1, 'sojourned': 5, 'Abimelech': 24, 'dream': 31, 'dead': 12, 'Said': 1, 'broth': 2, 'integrity': 2, 'innocency': 1, 'withheld': 4, 'sinning': 1, 'suffered': 3, 'restore': 4, 'prophet': 1, 'offended': 2, 'deeds': 1, 'ought': 4, 'sawest': 1, 'thought': 4, 'Surely': 5, 'wander': 1, 'kindness': 5, 'womenservants': 2, 'restored': 4, 'thousand': 1, 'silv': 2, 'oth': 1, 'thus': 7, 'reproved': 2, 'prayed': 1, 'healed': 1, 'fast': 1, 'wombs': 1, 'visited': 1, 'hear': 7, 'suck': 1, 'weaned': 2, 'mocking': 1, 'Cast': 1, 'bondwoman': 4, 'lad': 18, 'bottle': 3, 'putting': 1, 'shoulder': 5, 'aw': 2, 'wandered': 1, 'Beersheba': 11, 'spent': 2, 'cast': 7, 'shrubs': 1, 'sh': 1, 'death': 7, 'wept': 14, 'aileth': 1, 'archer': 1, 'Paran': 1, 'Phichol': 3, 'chief': 14, 'captain': 9, 'doe': 1, 'swear': 6, 'falsely': 1, 'violently': 1, 'wot': 2, 'ewe': 3, 'lambs': 4, 'mean': 1, 'witness': 6, 'digged': 11, 'sware': 9, 'Philistines': 7, 'grove': 1, 'tempt': 1, 'lovest': 1, 'Moriah': 1, 'offer': 1, 'saddled': 1, 'ass': 7, 'clave': 2, 'afar': 2, 'Abide': 1, 'yonder': 1, 'worship': 1, 'knife': 2, 'Here': 6, 'wo': 2, 'lamb': 2, 'provide': 2, 'order': 1, 'bound': 8, 'stretched': 2, 'Lay': 1, 'fearest': 1, 'caught': 2, 'thicket': 1, 'hor': 1, 'stead': 7, 'Jehovahjireh': 1, 'sworn': 1, 'saith': 5, 'blessing': 12, 'multiplying': 1, 'sand': 3, 'shore': 1, 'possess': 2, 'obeyed': 3, 'Huz': 1, 'Buz': 1, 'Kemuel': 1, 'Chesed': 1, 'Hazo': 1, 'Pildash': 1, 'Jidlaph': 1, 'Bethuel': 9, 'Rebekah': 29, 'concubine': 2, 'Reumah': 1, 'Tebah': 1, 'Gaham': 1, 'Thahash': 1, 'Maachah': 1, 'Kirjatharba': 1, 'Cana': 3, 'mourn': 1, 'weep': 2, 'sojourner': 1, 'buryingplace': 6, 'bury': 15, 'prince': 3, 'choice': 2, 'sepulchres': 1, 'none': 8, 'withhold': 1, 'sepulchre': 1, 'communed': 5, 'mind': 2, 'intreat': 1, 'Ephron': 12, 'Zohar': 3, 'Machpelah': 6, 'much': 8, 'worth': 2, 'Hittite': 7, 'audience': 3, 'shekels': 3, 'weighed': 1, 'named': 3, 'current': 1, 'merchant': 1, 'borders': 2, 'about': 11, 'sure': 2, 'Mam': 1, 'eldest': 4, 'ruled': 1, 'Put': 2, 'thi': 3, 'dwe': 3, 'willing': 2, 'follow': 4, 'Beware': 1, 'send': 12, 'clear': 4, 'oa': 1, 'thigh': 7, 'master': 29, 'matter': 2, 'ha': 7, 'Mesopotamia': 1, 'kneel': 1, 'draw': 6, 'speed': 1, 'stand': 2, 'wat': 2, 'damsel': 9, 'pitcher': 9, 'Drink': 3, 'al': 3, 'thereby': 1, 'speaking': 2, 'virgin': 2, 'giving': 1, 'drinking': 2, 'emptied': 2, 'trough': 1, 'wondering': 1, 'held': 3, 'wit': 1, 'journey': 6, 'prosperous': 2, 'golden': 1, 'earring': 3, 'half': 1, 'shekel': 1, 'weight': 2, 'bracelets': 5, 'Whose': 3, 'room': 4, 'lodge': 2, 'moreover': 2, 'straw': 2, 'provender': 4, 'enough': 5, 'worshipped': 3, 'destitute': 1, 'tru': 1, 'led': 2, 'Laban': 54, 'words': 17, 'standest': 1, 'prepared': 2, 'ungirded': 1, 'errand': 1, 'Speak': 1, 'prosper': 4, 'hou': 4, 'oath': 5, 'cometh': 6, 'Both': 1, 'haste': 3, 'asked': 9, 'kindly': 4, 'proceedeth': 1, 'bad': 3, 'bowing': 1, 'jewels': 2, 'raiment': 7, 'Rebek': 1, 'precious': 1, 'tarried': 3, 'Send': 4, 'few': 5, 'least': 2, 'Hinder': 1, 'prospered': 1, 'enquire': 2, 'nurse': 2, 'thousands': 1, 'millions': 1, 'hate': 3, 'damsels': 1, 'rode': 1, 'followed': 2, 'Lahairoi': 2, 'meditate': 1, 'eventide': 1, 'coming': 1, 'lighted': 2, 'camel': 2, 'walketh': 1, 'mast': 1, 'vail': 3, 'loved': 9, 'comforted': 4, 'Keturah': 2, 'Zimran': 1, 'Jokshan': 2, 'Medan': 1, 'Midian': 3, 'Ishbak': 1, 'Shuah': 3, 'Asshurim': 1, 'Letushim': 1, 'Leummim': 1, 'Ephah': 1, 'Epher': 1, 'Hanoch': 2, 'Abidah': 1, 'Eldaah': 1, 'concubines': 1, 'gifts': 1, 'threescore': 5, 'ghost': 4, 'purchased': 1, 'Nebajoth': 3, 'Kedar': 1, 'Adbeel': 1, 'Mibsam': 1, 'Mishma': 1, 'Dumah': 1, 'Massa': 1, 'Hadar': 2, 'Tema': 1, 'Jetur': 1, 'Naphish': 1, 'Kedemah': 1, 'towns': 1, 'castles': 1, 'Assyr': 1, 'Syrian': 5, 'Padanaram': 10, 'intreated': 2, 'barr': 1, 'struggled': 1, 'Two': 2, 'womb': 6, 'stronger': 3, 'fulfilled': 5, 'twins': 2, 'red': 3, 'hairy': 3, 'Esau': 74, 'Jac': 2, 'boys': 1, 'cunning': 1, 'Jacob': 179, 'venison': 8, 'sod': 1, 'pottage': 3, 'fai': 2, 'Feed': 1, 'Edom': 11, 'Sell': 1, 'birthright': 6, 'point': 1, 'profit': 2, 'Swear': 2, 'sold': 10, 'lentiles': 1, 'w': 2, 'beside': 2, 'Sojourn': 1, 'perform': 1, 'kept': 4, 'charge': 2, 'commandments': 1, 'statutes': 1, 'laws': 1, 'sist': 3, 'long': 2, 'sporting': 1, 'how': 8, 'Lest': 3, 'lightly': 1, 'lien': 1, 'guiltiness': 1, 'charged': 4, 'toucheth': 1, 'sowed': 1, 'received': 1, 'hundredfo': 1, 'forward': 1, 'store': 2, 'servan': 3, 'envied': 3, 'wells': 2, 'mightier': 1, 'springing': 1, 'ou': 1, 'Esek': 1, 'strove': 3, 'Sitnah': 1, 'Ahuzzath': 1, 'friends': 1, 'army': 1, 'touched': 3, 'pea': 1, 'betimes': 1, 'Shebah': 1, 'Judith': 1, 'Beeri': 1, 'Bashemath': 6, 'Elon': 3, 'Hitti': 1, 'Which': 1, 'grief': 1, 'dim': 2, 'dea': 1, 'weapons': 1, 'quiver': 1, 'savoury': 6, 'love': 4, 'hunt': 1, 'obey': 3, 'kids': 2, 'goats': 9, 'smooth': 2, 'peradventure': 7, 'feel': 2, 'seem': 1, 'deceiver': 1, 'Upon': 1, 'goodly': 3, 'ne': 1, 'badest': 1, 'arise': 8, 'sit': 1, 'How': 4, 'felt': 1, 'discerned': 1, 'han': 1, 'Art': 1, 'kiss': 2, 'kissed': 8, 'smell': 3, 'dew': 2, 'fatness': 2, 'plenty': 4, 'corn': 17, 'wi': 1, 'blesseth': 1, 'scarce': 1, 'gone': 6, 'hunting': 1, 'trembled': 1, 'cried': 7, 'bitter': 1, 'Bless': 1, 'Thy': 11, 'subtilty': 1, 'rightly': 1, 'supplanted': 1, 'tim': 1, 'reserved': 1, 'sustained': 1, 'yoke': 1, 'neck': 8, 'hated': 7, 'wherewith': 1, 'mourning': 6, 'touching': 1, 'purposing': 1, 'fury': 1, 'Until': 1, 'anger': 5, 'forget': 2, 'deprived': 1, 'weary': 1, 'daughers': 2, 'pleased': 4, 'Mahalath': 1, 'certain': 4, 'stones': 3, 'pillows': 2, 'dreamed': 12, 'ladder': 1, 'reached': 1, 'heav': 1, 'ascending': 1, 'descending': 1, 'whereon': 1, 'liest': 1, 'north': 1, 'sou': 2, 'places': 2, 'awaked': 1, 'dreadful': 1, 'poured': 3, 'oil': 2, 'Luz': 3, 'vowed': 1, 'vow': 2, 'G': 2, 'lying': 2, 'floc': 1, 'rolled': 2, 'Rachel': 44, 'Lo': 2, 'feed': 6, 'roll': 1, 'tidings': 1, 'embraced': 3, 'abode': 2, 'space': 2, 'nought': 1, 'wages': 5, 'Leah': 33, 'eyed': 1, 'beautiful': 1, 'favoured': 11, 'better': 1, 'Zilpah': 7, 'Fulfil': 1, 'week': 2, 'service': 2, 'Bilhah': 9, 'Reub': 1, 'Simeon': 10, 'Levi': 6, 'praise': 2, 'Judah': 28, 'else': 2, 'kindled': 2, 'knees': 3, 'judged': 1, 'wrestlings': 1, 'wrestled': 3, 'Naphtali': 4, 'troop': 2, 'Gad': 4, 'Happy': 1, 'Asher': 4, 'Reuben': 12, 'wheat': 1, 'mandrakes': 5, 'wouldest': 3, 'hired': 1, 'hire': 4, 'maiden': 1, 'husba': 1, 'Issachar': 4, 'endued': 1, 'dowry': 2, 'Zebulun': 3, 'afterwards': 1, 'Dinah': 7, 'reproa': 1, 'Joseph': 157, 'add': 1, 'knowest': 3, 'tar': 1, 'learned': 1, 'experience': 1, 'Appoint': 1, 'hadst': 2, 'since': 2, 'comi': 1, 'removing': 1, 'speckled': 8, 'spotted': 6, 'brown': 4, 'goa': 1, 'answer': 3, 'fa': 2, 'stolen': 8, 'ringstraked': 7, 'white': 5, 'fed': 6, 'rods': 6, 'poplar': 1, 'hazel': 1, 'chesnut': 1, 'pilled': 2, 'strakes': 1, 'appear': 1, 'gutters': 2, 'watering': 1, 'troughs': 1, 'conceive': 3, 'whensoever': 1, 'feeble': 1, 'feebler': 1, 'glory': 2, 'power': 3, 'deceived': 1, 'changed': 3, 'times': 4, 'speckl': 1, 'rams': 4, 'leaped': 1, 'grisled': 1, 'leap': 1, 'grisl': 1, 'doeth': 1, 'anointedst': 1, 'vowedst': 1, 'inheritance': 2, 'Are': 1, 'strangers': 2, 'quite': 1, 'devoured': 5, 'riches': 2, 'ours': 1, 'carried': 4, 'getting': 1, 'shear': 2, 'images': 3, 'stole': 1, 'unawares': 2, 'Gilead': 4, 'overtook': 3, 'heed': 2, 'either': 2, 'mou': 1, 'captives': 1, 'secretly': 1, 'steal': 2, 'mirth': 1, 'songs': 1, 'tabret': 1, 'foolishly': 1, 'doing': 2, 'though': 3, 'longedst': 1, 'force': 1, 'whomsoever': 2, 'findest': 1, 'discern': 1, 'furniture': 1, 'searched': 4, 'displease': 1, 'custom': 1, 'chode': 1, 'trespass': 3, 'hotly': 1, 'Whereas': 1, 'stuff': 3, 'ewes': 2, 'torn': 2, 'loss': 1, 'drought': 1, 'frost': 1, 'fourteen': 2, 'Except': 2, 'empty': 3, 'labour': 3, 'rebuked': 2, 'mi': 1, 'Gather': 3, 'heap': 6, 'Jegarsahadutha': 1, 'Galeed': 2, 'Mizpah': 1, 'watch': 1, 'absent': 1, 'harm': 1, 'sacrifice': 1, 'bre': 3, 'met': 2, 'Mahanaim': 1, 'messengers': 2, 'womenservan': 1, 'distressed': 1, 'bands': 2, 'company': 6, 'worthy': 1, 'mercies': 1, 'truth': 2, 'staff': 3, 'Deliver': 1, 'Es': 2, 'lodged': 2, 'present': 9, 'Thirty': 1, 'milch': 1, 'colts': 1, 'kine': 11, 'bulls': 1, 'foals': 1, 'Pass': 1, 'foremost': 2, 'meeteth': 1, 'asketh': 1, 'droves': 1, 'On': 4, 'appease': 1, 'accept': 1, 'eleven': 2, 'ford': 1, 'Jabbok': 1, 'brook': 1, 'breaking': 1, 'hollow': 4, 'joint': 1, 'breaketh': 1, 'except': 7, 'Isra': 2, 'Tell': 1, 'dost': 2, 'ask': 1, 'Peniel': 1, 'preserved': 1, 'Penuel': 1, 'halted': 1, 'Israel': 40, 'sinew': 2, 'shrank': 2, 'handmaids': 2, 'hindermost': 1, 'graciously': 2, 'handmaidens': 1, 'themselv': 2, 'meanest': 1, 'urged': 1, 'knoweth': 1, 'overdrive': 1, 'lead': 1, 'softly': 1, 'endure': 1, 'folk': 1, 'needeth': 1, 'Succoth': 2, 'booths': 1, 'Shalem': 1, 'Shechem': 17, 'parcel': 1, 'Hamor': 11, 'erected': 1, 'EleloheIsrael': 1, 'defiled': 4, 'fie': 2, 'commune': 1, 'wrought': 1, 'folly': 1, 'daught': 3, 'longeth': 1, 'marriages': 1, 'trade': 4, 'possessions': 2, 'Ask': 1, 'never': 2, 'gift': 1, 'deceitfully': 1, 'reproach': 1, 'consent': 3, 'deferred': 1, 'delight': 1, 'honourable': 1, 'peaceable': 1, 'large': 1, 'Only': 2, 'herein': 1, 'boldly': 1, 'males': 1, 'edge': 1, 'spoiled': 2, 'wealth': 1, 'ones': 7, 'troubled': 3, 'stink': 1, 'Perizzit': 1, 'Should': 1, 'harlot': 6, 'fleddest': 1, 'strange': 3, 'change': 1, 'garmen': 1, 'distress': 2, 'earrings': 1, 'ears': 13, 'oak': 1, 'terror': 1, 'pursue': 1, 'Elbethel': 1, 'Deborah': 1, 'beneath': 1, 'Allonbachuth': 1, 'na': 1, 'loins': 3, 'sto': 1, 'thereon': 2, 'Ephra': 2, 'travailed': 2, 'midwife': 2, 'departing': 1, ')': 2, 'Beno': 1, 'Benjamin': 17, 'Ephrath': 2, 'Bethlehem': 2, 'grave': 7, 'beyond': 3, 'Edar': 1, 'concubi': 1, 'twel': 1, 'Zebul': 1, 'Arbah': 1, 'da': 2, 'Aholibamah': 7, 'Anah': 9, 'Zibeon': 6, 'Eliphaz': 7, 'Reuel': 5, 'Jeush': 3, 'Jaalam': 3, 'Korah': 3, 'got': 3, 'Edomites': 2, 'Teman': 3, 'Omar': 2, 'Zepho': 2, 'Gatam': 2, 'Kenaz': 3, 'Timna': 2, 'Amal': 1, 'Nahath': 2, 'Zerah': 3, 'Shammah': 2, 'Mizz': 2, 'dukes': 11, 'duke': 27, 'Duke': 5, 'Amalek': 1, 'Kor': 1, 'Horite': 1, 'inhabited': 1, 'Lotan': 4, 'Shobal': 3, 'Dishon': 4, 'Ezer': 3, 'Dishan': 3, 'Hori': 2, 'Hemam': 1, 'Alvan': 1, 'Manahath': 1, 'Ebal': 1, 'Shepho': 1, 'Onam': 1, 'Ajah': 1, 'mules': 1, 'Hemdan': 1, 'Eshban': 1, 'Ithran': 1, 'Cheran': 1, 'Bilhan': 1, 'Zaavan': 1, 'Akan': 1, 'Aran': 1, 'reigned': 10, 'Beor': 1, 'Dinhabah': 1, 'Bozrah': 1, 'Husham': 2, 'Temani': 1, 'Hadad': 2, 'Bedad': 1, 'ste': 2, 'Avith': 1, 'Samlah': 2, 'Masrekah': 1, 'Saul': 2, 'Baalhanan': 2, 'Achbor': 2, 'Pau': 1, 'Mehetabel': 1, 'Matred': 1, 'Mezahab': 1, 'Timnah': 1, 'Alvah': 1, 'Jetheth': 1, 'Elah': 1, 'Pinon': 1, 'Mibzar': 1, 'Magdiel': 1, 'Iram': 1, 'habitations': 2, 'possessi': 1, 'seventeen': 2, 'feeding': 1, 'wiv': 1, 'report': 1, 'coat': 8, 'colours': 3, 'peaceably': 1, 'binding': 1, 'sheaves': 2, 'sheaf': 2, 'upright': 1, 'obeisance': 3, 'Shalt': 1, 'reign': 1, 'dreams': 4, 'moon': 1, 'ourselves': 2, 'observed': 1, 'Do': 3, 'wandering': 1, 'seekest': 1, 'seek': 2, 'hence': 3, 'Dothan': 2, 'conspired': 1, 'dreamer': 1, 'pit': 7, 'Some': 1, 'Shed': 1, 'rid': 1, 'deliver': 4, 'stript': 1, 'Ishmeelites': 4, 'spicery': 1, 'balm': 2, 'myrrh': 2, 'carry': 9, 'conceal': 1, 'sell': 1, 'content': 1, 'Midianites': 2, 'merchantmen': 1, 'rent': 4, 'clothes': 4, 'killed': 1, 'kid': 4, 'dipped': 1, 'fou': 1, 'doubt': 1, 'sackcloth': 1, 'mourned': 3, 'refused': 3, 'Potiphar': 2, 'officer': 2, 'guard': 6, 'Adullamite': 3, 'Hirah': 2, 'Er': 5, 'Onan': 5, 'Shel': 1, 'Chezib': 1, 'Tamar': 5, 'marry': 1, 'raise': 1, 'spilled': 1, 'displeased': 2, 'Remain': 1, 'widow': 2, 'Shelah': 4, 'gro': 1, 'sheepshearers': 1, 'Timnath': 3, 'friend': 2, 'garments': 3, 'wrapped': 1, 'grown': 1, '.)': 1, 'pledge': 3, 'signet': 2, 'widowhood': 1, 'openly': 1, 'shamed': 1, 'months': 1, 'played': 1, 'whoredom': 1, 'chi': 1, 'Discern': 1, 'acknowledged': 1, 'travail': 1, 'scarlet': 2, 'breach': 1, 'Pharez': 3, 'Zarah': 1, 'overseer': 2, 'person': 1, 'Lie': 2, 'wotteth': 1, 'committed': 2, 'business': 1, 'mock': 2, 'loud': 1, 'voi': 1, 'home': 3, 'wrath': 2, 'prison': 9, 'prisoners': 2, 'bou': 1, 'doer': 1, 'butler': 8, 'baker': 5, 'officers': 3, 'butlers': 1, 'bakers': 1, 'ward': 5, 'continued': 1, 'season': 1, 'interpretation': 5, 'sad': 1, 'sadly': 1, 'interpreter': 2, 'interpretations': 1, 'belong': 1, 'vine': 4, 'branches': 3, 'budded': 1, 'blossoms': 1, 'shot': 2, 'clusters': 1, 'ripe': 1, 'grap': 2, 'cup': 10, 'grapes': 1, 'Yet': 3, 'former': 1, 'think': 1, 'mention': 1, 'Hebrews': 2, 'dungeon': 1, 'baskets': 2, 'uppermost': 1, 'basket': 2, 'bakemeats': 1, 'hang': 1, 'birthday': 1, 'butlership': 1, 'hanged': 2, 'interpreted': 3, 'forgat': 1, 'fatfleshed': 2, 'meadow': 1, 'ill': 7, 'leanfleshed': 3, 'brink': 1, 'slept': 1, 'stalk': 2, 'rank': 2, 'thin': 5, 'blasted': 3, 'sprung': 2, 'magicians': 2, 'interpret': 4, 'faults': 1, 'bak': 1, 'office': 1, 'hastily': 1, 'dunge': 1, 'shaved': 1, 'canst': 1, 'bank': 1, 'riv': 1, 'mead': 1, 'poor': 1, 'badne': 1, 'lean': 1, 'withered': 1, 'declare': 1, 'sheweth': 1, 'throughout': 3, 'Egy': 3, 'forgotten': 1, 'consume': 1, 'reason': 2, 'following': 1, 'doubled': 1, 'twice': 1, 'shortly': 1, 'discreet': 2, 'appoint': 1, 'part': 3, 'plenteous': 2, 'perish': 1, 'Can': 1, 'Forasmuch': 1, 'rul': 1, 'throne': 1, 'ring': 1, 'arrayed': 1, 'vestures': 1, 'linen': 1, 'chain': 1, 'ride': 1, 'chariot': 2, 'Bow': 1, 'kn': 1, 'ruler': 3, 'Zaphnathpaaneah': 1, 'Asenath': 3, 'Potipherah': 3, 'handfuls': 1, 'citi': 1, 'numbering': 1, 'Manasseh': 10, 'Ephraim': 11, 'plenteousness': 1, 'dearth': 2, 'sa': 3, 'famished': 1, 'storehouses': 1, 'buy': 12, 'mischief': 3, 'befall': 4, 'governor': 2, 'roughly': 2, 'Whence': 1, 'From': 1, 'spies': 6, 'true': 5, 'youngest': 10, 'spi': 1, 'Hereby': 2, 'proved': 2, 'y': 1, 'pris': 1, 'hous': 1, 'verified': 1, 'verily': 1, 'guilty': 1, 'anguish': 1, 'besought': 1, 'Spake': 1, 'required': 1, 'understood': 1, 'sacks': 8, 'sack': 9, 'provision': 2, 'laded': 2, 'inn': 2, 'espied': 1, 'failed': 2, 'befell': 1, 'households': 3, 'traffick': 1, 'bundle': 1, 'bundles': 1, 'Me': 1, 'bereaved': 3, 'childr': 1, 'Slay': 1, 'alo': 1, 'gray': 3, 'hairs': 3, 'solemnly': 1, 'protest': 1, 'fo': 2, 'straitly': 1, 'state': 1, 'tenor': 1, 'wor': 1, 'blame': 2, 'best': 3, 'fruits': 1, 'vessels': 1, 'honey': 1, 'spices': 1, 'nuts': 1, 'almon': 1, 'double': 2, 'oversig': 1, 'dine': 1, 'noon': 2, 'bade': 1, 'occasion': 1, 'bondmen': 2, 'sir': 1, 'weig': 1, 'Peace': 1, 'treasure': 1, 'sac': 1, 'washed': 3, 'welfare': 1, 'health': 1, 'gracious': 1, 'yearn': 1, 'sought': 1, 'chamber': 1, 'refrained': 1, 'Set': 1, 'abomination': 2, 'marvelled': 1, 'messes': 1, 'mess': 1, 'merry': 1, 'Fill': 1, 'overtake': 1, 'rewarded': 1, 'drinketh': 1, 'divineth': 1, 'forbid': 2, 'mouths': 1, 'blameless': 1, 'speedily': 1, 'younge': 1, 'deed': 1, 'divine': 1, 'loveth': 1, 'bondman': 1, 'refrain': 1, 'Cause': 1, 'aloud': 1, 'hith': 1, 'earing': 1, 'posterity': 1, 'deliverance': 1, 'Goshen': 10, 'nourish': 2, 'poverty': 1, 'speaketh': 1, 'Moreover': 2, 'fame': 1, 'co': 1, 'lade': 1, 'wagons': 4, 'regard': 1, 'commandment': 1, 'To': 1, 'changes': 2, 'laden': 2, 'fainted': 2, 'reviv': 1, 'sacrifices': 1, 'visions': 1, 'nati': 1, 'aga': 1, 'His': 2, 'Phallu': 1, 'Hezron': 2, 'Carmi': 1, 'Jemuel': 1, 'Jamin': 1, 'Ohad': 1, 'Jachin': 1, 'Shaul': 1, 'Canaanitish': 1, 'Gershon': 1, 'Kohath': 1, 'Merari': 1, 'Zar': 1, 'Hamul': 1, 'Tola': 1, 'Phuvah': 1, 'Job': 1, 'Shimron': 1, 'Sered': 1, 'Jahleel': 1, 'Din': 1, 'Ziphion': 1, 'Haggi': 1, 'Shuni': 1, 'Ezbon': 1, 'Eri': 1, 'Arodi': 1, 'Areli': 1, 'Jimnah': 1, 'Ishuah': 1, 'Isui': 1, 'Beriah': 2, 'Serah': 1, 'Heber': 1, 'Malchiel': 1, 'sixteen': 1, 'Belah': 1, 'Becher': 1, 'Ashbel': 1, 'Gera': 1, 'Naaman': 1, 'Ehi': 1, 'Rosh': 1, 'Muppim': 1, 'Huppim': 1, 'Ard': 1, 'Hushim': 1, 'Jahzeel': 1, 'Guni': 1, 'Jezer': 1, 'Shillem': 1, 'direct': 1, 'presented': 2, 'shepherds': 2, 'occupation': 2, 'fathe': 1, 'shepherd': 2, 'morever': 1, 'pasture': 1, 'activity': 1, 'rulers': 1, 'pilgrimage': 2, 'attained': 1, 'Rameses': 1, 'nourished': 1, 'boug': 1, 'faileth': 1, 'fail': 1, 'exchange': 1, 'horses': 1, 'bodies': 1, 'lan': 1, 'desolate': 1, 'priests': 3, 'assigned': 1, 'sow': 1, 'increase': 1, 'parts': 1, 'saved': 1, 'multiplied': 1, 'nigh': 1, 'bed': 4, 'si': 1, 'strengthened': 1, 'issue': 1, 'begettest': 1, 'Padan': 1, 'guiding': 1, 'wittingly': 1, 'Angel': 1, 'redeemed': 1, 'lads': 1, 'remove': 1, 'Not': 1, 'Manass': 1, 'last': 2, 'excellency': 2, 'dignity': 1, 'pow': 1, 'Unstable': 1, 'excel': 1, 'wentest': 1, 'defiledst': 1, 'couch': 1, 'instruments': 1, 'cruelty': 1, 'secret': 1, 'assembly': 1, 'honour': 1, 'unit': 1, 'selfwill': 1, 'wall': 1, 'fierce': 1, 'cru': 1, 'lion': 3, 'whelp': 1, 'prey': 2, 'stooped': 1, 'couched': 1, 'rouse': 1, 'sceptre': 1, 'lawgiver': 1, 'Shiloh': 1, 'Binding': 1, 'foal': 1, 'colt': 1, 'teeth': 1, 'haven': 2, 'ships': 1, 'Zidon': 1, 'strong': 2, 'couching': 1, 'burdens': 1, 'tribute': 1, 'tribes': 2, 'adder': 1, 'path': 1, 'biteth': 1, 'horse': 1, 'heels': 1, 'rider': 1, 'waited': 1, 'salvation': 1, 'overcome': 2, 'royal': 1, 'dainties': 1, 'hind': 1, 'loose': 1, 'giveth': 1, 'bough': 2, 'run': 1, 'wa': 1, 'archers': 1, 'sorely': 1, 'arms': 1, 'blessings': 5, 'breasts': 1, 'progenitors': 1, 'utmost': 1, 'hil': 1, 'crown': 1, 'ravin': 1, 'wolf': 1, 'devour': 1, 'spoil': 1, 'peop': 1, 'purchase': 1, 'commanding': 1, 'yielded': 1, 'physicians': 2, 'embalm': 2, 'embalmed': 2, 'past': 1, 'elders': 2, 'chariots': 1, 'horsemen': 1, 'threshingfloor': 1, 'Atad': 2, 'lamentati': 1, 'floor': 1, 'Egyptia': 1, 'Abelmizraim': 1, 'requite': 1, 'messenger': 1, 'Forgive': 1, 'forgive': 1, 'meant': 1, 'Machir': 1, 'visit': 2, 'coffin': 1}\n"
     ]
    }
   ],
   "source": [
    "# jak często występują konkretne słowa\n",
    "print(text3.count('God'))\n",
    "print(text3.vocab()['God'])\n",
    "print('---')\n",
    "text3.vocab().pprint()\n",
    "print('---')\n",
    "print(dict(text3.vocab()))"
   ]
  },
  {
   "cell_type": "code",
   "execution_count": 123,
   "metadata": {
    "ExecuteTime": {
     "end_time": "2017-10-15T20:12:16.422328Z",
     "start_time": "2017-10-15T22:12:16.188428+02:00"
    }
   },
   "outputs": [
    {
     "data": {
      "text/plain": [
       "[(',', 3681),\n",
       " ('and', 2428),\n",
       " ('the', 2411),\n",
       " ('of', 1358),\n",
       " ('.', 1315),\n",
       " ('And', 1250),\n",
       " ('his', 651),\n",
       " ('he', 648),\n",
       " ('to', 611),\n",
       " (';', 605),\n",
       " ('unto', 590),\n",
       " ('in', 588),\n",
       " ('that', 509),\n",
       " ('I', 484),\n",
       " ('said', 476),\n",
       " ('him', 387),\n",
       " ('a', 342),\n",
       " ('my', 325),\n",
       " ('was', 317),\n",
       " ('for', 297),\n",
       " ('it', 290),\n",
       " ('with', 289),\n",
       " ('me', 282),\n",
       " ('thou', 272),\n",
       " (\"'\", 268),\n",
       " ('is', 267),\n",
       " ('thy', 267),\n",
       " ('s', 263),\n",
       " ('thee', 257),\n",
       " ('be', 254),\n",
       " ('shall', 253),\n",
       " ('they', 249),\n",
       " ('all', 245),\n",
       " (':', 238),\n",
       " ('God', 231)]"
      ]
     },
     "execution_count": 123,
     "metadata": {},
     "output_type": "execute_result"
    }
   ],
   "source": [
    "# najczęstsze słowa\n",
    "fdist = FreqDist(text3)\n",
    "fdist.most_common(35)"
   ]
  },
  {
   "cell_type": "code",
   "execution_count": 124,
   "metadata": {
    "ExecuteTime": {
     "end_time": "2017-10-15T20:12:16.733175Z",
     "start_time": "2017-10-15T22:12:16.424844+02:00"
    }
   },
   "outputs": [
    {
     "data": {
      "image/png": "[encoded data removed]",
      "text/plain": [
       "<matplotlib.figure.Figure at 0x7f19a114ff98>"
      ]
     },
     "metadata": {},
     "output_type": "display_data"
    }
   ],
   "source": [
    "a = fdist.most_common(35)\n",
    "words, counts = zip(*a)\n",
    "x = list(range(len(counts)))\n",
    "# print(lst1)\n",
    "import matplotlib.pyplot as plt\n",
    "plt.figure(figsize=(12,7))\n",
    "plt.bar(x, counts)\n",
    "plt.xticks(x, words, rotation='vertical')\n",
    "plt.show()"
   ]
  },
  {
   "cell_type": "markdown",
   "metadata": {},
   "source": [
    "#### Zachęcam do zapoznania się lepiej z pakietem nltk!"
   ]
  },
  {
   "cell_type": "markdown",
   "metadata": {},
   "source": [
    "### Tokenizery"
   ]
  },
  {
   "cell_type": "markdown",
   "metadata": {},
   "source": [
    "**Ćwiczenie (aktywność)**: \n",
    "Napisz tokenizer, który pozwoli wyłapywać w tekście \"emotki\", np. \":)\", \":DD\""
   ]
  },
  {
   "cell_type": "code",
   "execution_count": 125,
   "metadata": {
    "ExecuteTime": {
     "end_time": "2017-10-15T20:12:16.745921Z",
     "start_time": "2017-10-15T22:12:16.735171+02:00"
    }
   },
   "outputs": [
    {
     "name": "stdout",
     "output_type": "stream",
     "text": [
      "[':DD', 'Hello', \"I'm\", 'doggy', 'xdddd', \"it's\", 'me', ':p', ':))', 'Idiotic', \";'*\", 'child', ';PP', 'emotifool', '8', '=========D']\n"
     ]
    }
   ],
   "source": [
    "from nltk.tokenize import RegexpTokenizer\n",
    "\n",
    "def smiley_tokenizer(text):\n",
    "    emoticons = r\"[3><O0]*[:;BxXB=%#]['-=^]*[bBcCdDjJlLpPsSoOxX03)\\*\\]\\|/\\\\]+|^^|<3+\"\n",
    "    words = r\"[\\w']+\"\n",
    "    tokenizer = RegexpTokenizer(\"{}|{}\".format(emoticons, words))\n",
    "    return tokenizer.tokenize(text)\n",
    "\n",
    "print(smiley_tokenizer(\":DD Hello I'm doggy xdddd, it's me :p :)) ^^ Idiotic ;'* child ;PP emotifool 8=========D\"))"
   ]
  },
  {
   "cell_type": "code",
   "execution_count": 126,
   "metadata": {
    "ExecuteTime": {
     "end_time": "2017-10-15T20:12:16.880683Z",
     "start_time": "2017-10-15T22:12:16.748513+02:00"
    },
    "collapsed": true
   },
   "outputs": [],
   "source": [
    "# twitter tokenizer\n",
    "from nltk.tokenize import TweetTokenizer\n",
    "twtok = TweetTokenizer()"
   ]
  },
  {
   "cell_type": "code",
   "execution_count": 127,
   "metadata": {
    "ExecuteTime": {
     "end_time": "2017-10-15T20:12:16.968096Z",
     "start_time": "2017-10-15T22:12:16.882255+02:00"
    },
    "collapsed": true
   },
   "outputs": [],
   "source": [
    "tweet1= \"Want to break into AI? You can learn Deep Learning from new deeplearning.ai courses on Coursera:\"\n",
    "tweet2=\"Stanford's first day of class--record-breaking 1040 people already enrolled for on-campus Machine Learning (CS229). Wow! @danboneh\""
   ]
  },
  {
   "cell_type": "code",
   "execution_count": 128,
   "metadata": {
    "ExecuteTime": {
     "end_time": "2017-10-15T20:12:17.062507Z",
     "start_time": "2017-10-15T22:12:16.970639+02:00"
    }
   },
   "outputs": [
    {
     "data": {
      "text/plain": [
       "['Want',\n",
       " 'to',\n",
       " 'break',\n",
       " 'into',\n",
       " 'AI',\n",
       " '?',\n",
       " 'You',\n",
       " 'can',\n",
       " 'learn',\n",
       " 'Deep',\n",
       " 'Learning',\n",
       " 'from',\n",
       " 'new',\n",
       " 'deeplearning.ai',\n",
       " 'courses',\n",
       " 'on',\n",
       " 'Coursera',\n",
       " ':']"
      ]
     },
     "execution_count": 128,
     "metadata": {},
     "output_type": "execute_result"
    }
   ],
   "source": [
    "twtok.tokenize(tweet1)"
   ]
  },
  {
   "cell_type": "code",
   "execution_count": 129,
   "metadata": {
    "ExecuteTime": {
     "end_time": "2017-10-15T20:12:17.148560Z",
     "start_time": "2017-10-15T22:12:17.064745+02:00"
    }
   },
   "outputs": [
    {
     "data": {
      "text/plain": [
       "[\"I'm\", 'smiling', '!', ':)', ')', ':-)']"
      ]
     },
     "execution_count": 129,
     "metadata": {},
     "output_type": "execute_result"
    }
   ],
   "source": [
    "twtok.tokenize(\"I'm smiling! :)) :-)\")"
   ]
  },
  {
   "cell_type": "code",
   "execution_count": 130,
   "metadata": {
    "ExecuteTime": {
     "end_time": "2017-10-15T20:12:17.270456Z",
     "start_time": "2017-10-15T22:12:17.151618+02:00"
    }
   },
   "outputs": [
    {
     "name": "stdout",
     "output_type": "stream",
     "text": [
      "['', \"'m\", 'smiling', ':))', ':-)']\n"
     ]
    }
   ],
   "source": [
    "print(smiley_tokenizer(\"I'm smiling! :)) :-)\"))"
   ]
  },
  {
   "cell_type": "code",
   "execution_count": null,
   "metadata": {
    "collapsed": true
   },
   "outputs": [],
   "source": []
  }
 ],
 "metadata": {
  "kernelspec": {
   "display_name": "Python 3",
   "language": "python",
   "name": "python3"
  },
  "language_info": {
   "codemirror_mode": {
    "name": "ipython",
    "version": 3
   },
   "file_extension": ".py",
   "mimetype": "text/x-python",
   "name": "python",
   "nbconvert_exporter": "python",
   "pygments_lexer": "ipython3",
   "version": "3.6.2"
  }
 },
 "nbformat": 4,
 "nbformat_minor": 2
}
